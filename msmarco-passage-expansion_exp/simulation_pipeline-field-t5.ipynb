{
 "cells": [
  {
   "cell_type": "code",
   "execution_count": null,
   "metadata": {},
   "outputs": [],
   "source": [
    "#generate bm25+ltr&d2q(20)\n",
    "from collections import defaultdict\n",
    "counts = defaultdict(int)\n",
    "with open('run.ltr.d2q_field.20.tsv', 'w') as output_f:\n",
    "    with open('run.ltr.d2q_field.1000.tsv') as input_f:\n",
    "        for line in input_f:\n",
    "            cols = line.split('\\t')\n",
    "            qid = cols[0]\n",
    "            if(counts[qid] < 20):\n",
    "                docid = cols[1]\n",
    "                counts[qid] += 1\n",
    "                output_f.write(f'{qid}\\t{docid}\\t{counts[qid]}\\n')"
   ]
  },
  {
   "cell_type": "code",
   "execution_count": null,
   "metadata": {},
   "outputs": [
    {
     "name": "stdout",
     "output_type": "stream",
     "text": [
      "#####################\r\n",
      "MRR @10: 0.31363498885705093\r\n",
      "QueriesRanked: 6980\r\n",
      "#####################\r\n"
     ]
    }
   ],
   "source": [
    "!python3 ../RA/pyserini/tools/scripts/msmarco/msmarco_passage_eval.py \\\n",
    " ../RA/pyserini/collections/msmarco-passage/qrels.dev.small.tsv ./run.ltr.d2q_field.20.tsv"
   ]
  },
  {
   "cell_type": "code",
   "execution_count": null,
   "metadata": {},
   "outputs": [
    {
     "name": "stdout",
     "output_type": "stream",
     "text": [
      "Done!\r\n"
     ]
    }
   ],
   "source": [
    "!python3 ../RA/pyserini/tools/scripts/msmarco/convert_msmarco_to_trec_run.py --input ./run.ltr.d2q_field.20.tsv --output ./run.ltr.d2q_field.20.trec"
   ]
  },
  {
   "cell_type": "code",
   "execution_count": null,
   "metadata": {},
   "outputs": [
    {
     "name": "stdout",
     "output_type": "stream",
     "text": [
      "map                   \tall\t0.3152\r\n",
      "ndcg_cut_10           \tall\t0.3776\r\n"
     ]
    }
   ],
   "source": [
    "!../RA/pyserini/tools/eval/trec_eval.9.0.4/trec_eval -c -mmap -m ndcg_cut.10\\\n",
    " ../RA/pyserini/collections/msmarco-passage/qrels.dev.small.trec ./run.ltr.d2q_field.20.trec"
   ]
  },
  {
   "cell_type": "code",
   "execution_count": null,
   "metadata": {},
   "outputs": [
    {
     "name": "stderr",
     "output_type": "stream",
     "text": [
      "139596it [00:00, 874098.76it/s]\n"
     ]
    }
   ],
   "source": [
    "#get what qid,pid pairs are in ltr top 20\n",
    "from tqdm import tqdm\n",
    "ltr = defaultdict(dict)\n",
    "with open('./run.ltr.d2q_field.20.tsv') as f_ltr:\n",
    "    for line in tqdm(f_ltr):\n",
    "        query_id, passage_id, rank = line.strip().split('\\t')\n",
    "        if query_id not in ltr:\n",
    "            ltr[query_id] = [passage_id]\n",
    "        else:\n",
    "            ltr[query_id].append(passage_id)"
   ]
  },
  {
   "cell_type": "code",
   "execution_count": null,
   "metadata": {},
   "outputs": [
    {
     "name": "stderr",
     "output_type": "stream",
     "text": [
      "6974598it [00:09, 753043.37it/s]\n",
      "100%|██████████| 6980/6980 [00:00<00:00, 34452.97it/s]\n"
     ]
    }
   ],
   "source": [
    "bert = defaultdict(dict)\n",
    "with open('../Downloads/run.monot5.d2q_field_1000.tsv') as f_bert, open('./run.monot5.ltr.d2q_field.20.tsv','w') as fout:    \n",
    "    for line in tqdm(f_bert):\n",
    "        query_id, passage_id, t = line.strip().split('\\t')\n",
    "        bert[query_id][passage_id] = int(t)\n",
    "    for qid, pids in tqdm(ltr.items()):\n",
    "        score = [(pid, bert[qid][pid]) for pid in pids]\n",
    "        score = sorted(score, key=lambda x:x[1])\n",
    "        rank = 1\n",
    "        for pid, _ in score:\n",
    "            fout.write(f'{qid}\\t{pid}\\t{rank}\\n')\n",
    "            rank += 1"
   ]
  },
  {
   "cell_type": "code",
   "execution_count": null,
   "metadata": {},
   "outputs": [
    {
     "name": "stdout",
     "output_type": "stream",
     "text": [
      "#####################\r\n",
      "MRR @10: 0.3823739596124986\r\n",
      "QueriesRanked: 6980\r\n",
      "#####################\r\n"
     ]
    }
   ],
   "source": [
    "!python3 ../RA/pyserini/tools/scripts/msmarco/msmarco_passage_eval.py \\\n",
    " ../RA/pyserini/collections/msmarco-passage/qrels.dev.small.tsv ./run.monot5.ltr.d2q_field.20.tsv"
   ]
  },
  {
   "cell_type": "code",
   "execution_count": null,
   "metadata": {},
   "outputs": [
    {
     "name": "stdout",
     "output_type": "stream",
     "text": [
      "Done!\r\n"
     ]
    }
   ],
   "source": [
    "!python3 ../RA/pyserini/tools/scripts/msmarco/convert_msmarco_to_trec_run.py --input ./run.monot5.ltr.d2q_field.20.tsv --output ./run.monot5.ltr.d2q_field.20.trec"
   ]
  },
  {
   "cell_type": "code",
   "execution_count": null,
   "metadata": {},
   "outputs": [
    {
     "name": "stdout",
     "output_type": "stream",
     "text": [
      "map                   \tall\t0.3799\r\n",
      "ndcg_cut_10           \tall\t0.4435\r\n"
     ]
    }
   ],
   "source": [
    "!../RA/pyserini/tools/eval/trec_eval.9.0.4/trec_eval -c -mmap -m ndcg_cut.10\\\n",
    " ../RA/pyserini/collections/msmarco-passage/qrels.dev.small.trec ./run.monot5.ltr.d2q_field.20.trec"
   ]
  },
  {
   "cell_type": "code",
   "execution_count": null,
   "metadata": {},
   "outputs": [],
   "source": []
  }
 ],
 "metadata": {
  "kernelspec": {
   "display_name": "Python 3",
   "language": "python",
   "name": "python3"
  },
  "language_info": {
   "codemirror_mode": {
    "name": "ipython",
    "version": 3
   },
   "file_extension": ".py",
   "mimetype": "text/x-python",
   "name": "python",
   "nbconvert_exporter": "python",
   "pygments_lexer": "ipython3",
   "version": "3.8.5"
  },
  "varInspector": {
   "cols": {
    "lenName": 16,
    "lenType": 16,
    "lenVar": 40
   },
   "kernels_config": {
    "python": {
     "delete_cmd_postfix": "",
     "delete_cmd_prefix": "del ",
     "library": "var_list.py",
     "varRefreshCmd": "print(var_dic_list())"
    },
    "r": {
     "delete_cmd_postfix": ") ",
     "delete_cmd_prefix": "rm(",
     "library": "var_list.r",
     "varRefreshCmd": "cat(var_dic_list()) "
    }
   },
   "types_to_exclude": [
    "module",
    "function",
    "builtin_function_or_method",
    "instance",
    "_Feature"
   ],
   "window_display": false
  }
 },
 "nbformat": 4,
 "nbformat_minor": 4
}
