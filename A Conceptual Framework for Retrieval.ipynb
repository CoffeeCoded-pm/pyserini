{
 "cells": [
  {
   "cell_type": "code",
   "execution_count": 1,
   "metadata": {},
   "outputs": [
    {
     "name": "stderr",
     "output_type": "stream",
     "text": [
      "Jul 06, 2024 9:20:09 PM org.apache.lucene.store.MemorySegmentIndexInputProvider <init>\n",
      "INFO: Using MemorySegmentIndexInput with Java 21; to disable start with -Dorg.apache.lucene.store.MMapDirectory.enableMemorySegments=false\n"
     ]
    },
    {
     "name": "stdout",
     "output_type": "stream",
     "text": [
      "{\n",
      "    \"be\": 2.637899875640869,\n",
      "    \"brother\": 4.09124231338501,\n",
      "    \"bubba\": 7.102361679077148,\n",
      "    \"bubba's\\u00e2\": 11.091651916503906,\n",
      "    \"deen\": 7.4197235107421875,\n",
      "    \"earl\": 5.663764953613281,\n",
      "    \"former\": 3.8262834548950195,\n",
      "    \"gener\": 2.2932770252227783,\n",
      "    \"her\": 2.7393782138824463,\n",
      "    \"hier\": 8.24051284790039,\n",
      "    \"manag\": 2.832794189453125,\n",
      "    \"paula\": 6.438521862030029,\n",
      "    \"su\": 5.404428005218506,\n",
      "    \"uncl\": 5.362298488616943,\n",
      "    \"w\": 3.9339818954467773\n",
      "}\n"
     ]
    }
   ],
   "source": [
    "from pyserini.index.lucene import IndexReader\n",
    "import json\n",
    "\n",
    "# Initialize the IndexReader with the path to your index\n",
    "index_reader = IndexReader('indexes/lucene-index-msmarco-passage')\n",
    "\n",
    "# Get the term frequency (TF) vector for a specific document by its ID\n",
    "tf = index_reader.get_document_vector('7187158')\n",
    "\n",
    "# Compute the BM25 weight for each term in the document\n",
    "bm25_weights = {term: index_reader.compute_bm25_term_weight('7187158', term, analyzer=None) for term in tf.keys()}\n",
    "\n",
    "# Print the BM25 weights in a nicely formatted JSON\n",
    "print(json.dumps(bm25_weights, indent=4, sort_keys=True))\n"
   ]
  },
  {
   "cell_type": "code",
   "execution_count": 2,
   "metadata": {},
   "outputs": [
    {
     "name": "stdout",
     "output_type": "stream",
     "text": [
      "Query Tokens: ['what', 'paula', 'deen', 'brother']\n",
      "Multi-Hot Query Weights: {'what': 1, 'paula': 1, 'deen': 1, 'brother': 1}\n"
     ]
    }
   ],
   "source": [
    "from pyserini.analysis import Analyzer, get_lucene_analyzer\n",
    "\n",
    "# Initialize the analyzer\n",
    "analyzer = Analyzer(get_lucene_analyzer())\n",
    "\n",
    "# Analyze the query to get its tokens\n",
    "query_tokens = analyzer.analyze('what is paula deen\\'s brother')\n",
    "\n",
    "# Create a multi-hot vector for the query tokens\n",
    "multihot_query_weights = {k: 1 for k in query_tokens}\n",
    "\n",
    "# Print the query tokens and the multi-hot vector\n",
    "print(\"Query Tokens:\", query_tokens)\n",
    "print(\"Multi-Hot Query Weights:\", multihot_query_weights)\n"
   ]
  },
  {
   "cell_type": "code",
   "execution_count": 3,
   "metadata": {},
   "outputs": [
    {
     "name": "stdout",
     "output_type": "stream",
     "text": [
      "Dot Product: 17.949487686157227\n"
     ]
    }
   ],
   "source": [
    "import numpy as np\n",
    "\n",
    "# Gather up the dimensions (i.e., the combined dictionary).\n",
    "terms = set.union(set(bm25_weights.keys()), set(multihot_query_weights.keys()))\n",
    "\n",
    "# Create numpy vectors for the document and query\n",
    "bm25_vec = np.array([bm25_weights.get(t, 0) for t in terms])\n",
    "multihot_qvec = np.array([multihot_query_weights.get(t, 0) for t in terms])\n",
    "\n",
    "# Compute the dot product\n",
    "score = np.dot(multihot_qvec, bm25_vec)\n",
    "print(\"Dot Product:\", score)\n"
   ]
  },
  {
   "cell_type": "code",
   "execution_count": 4,
   "metadata": {},
   "outputs": [
    {
     "name": "stdout",
     "output_type": "stream",
     "text": [
      "Dot Product (Alternative): 17.949487686157227\n"
     ]
    }
   ],
   "source": [
    "# Compute the inner product using a dictionary comprehension\n",
    "score_alt = sum({term: bm25_weights[term] for term in bm25_weights.keys() & multihot_query_weights.keys()}.values())\n",
    "print(\"Dot Product (Alternative):\", score_alt)\n"
   ]
  },
  {
   "cell_type": "code",
   "execution_count": 5,
   "metadata": {},
   "outputs": [
    {
     "name": "stderr",
     "output_type": "stream",
     "text": [
      "/Users/faizanfaisal/anaconda3/envs/pyserini2/lib/python3.11/site-packages/tqdm/auto.py:21: TqdmWarning: IProgress not found. Please update jupyter and ipywidgets. See https://ipywidgets.readthedocs.io/en/stable/user_install.html\n",
      "  from .autonotebook import tqdm as notebook_tqdm\n"
     ]
    },
    {
     "name": "stdout",
     "output_type": "stream",
     "text": [
      " 1 7187158 17.94950\n",
      " 2 7187157 17.66560\n",
      " 3 7187163 17.39060\n",
      " 4 7546327 17.03410\n",
      " 5 7187160 16.56520\n",
      " 6 8227279 15.74180\n",
      " 7 2298838 15.60820\n",
      " 8 7617404 15.40040\n",
      " 9 7187156 15.27550\n",
      "10 2298839 14.97780\n"
     ]
    }
   ],
   "source": [
    "from pyserini.search.lucene import LuceneSearcher\n",
    "\n",
    "# Initialize the searcher with the index path\n",
    "searcher = LuceneSearcher('indexes/lucene-index-msmarco-passage')\n",
    "\n",
    "# Perform the search with the query\n",
    "hits = searcher.search('what is paula deen\\'s brother')\n",
    "\n",
    "# Print the top 10 hits\n",
    "for i in range(0, 10):\n",
    "    print(f'{i+1:2} {hits[i].docid:7} {hits[i].score:.5f}')\n"
   ]
  }
 ],
 "metadata": {
  "kernelspec": {
   "display_name": "pyserini2",
   "language": "python",
   "name": "python3"
  },
  "language_info": {
   "codemirror_mode": {
    "name": "ipython",
    "version": 3
   },
   "file_extension": ".py",
   "mimetype": "text/x-python",
   "name": "python",
   "nbconvert_exporter": "python",
   "pygments_lexer": "ipython3",
   "version": "3.11.9"
  }
 },
 "nbformat": 4,
 "nbformat_minor": 2
}
