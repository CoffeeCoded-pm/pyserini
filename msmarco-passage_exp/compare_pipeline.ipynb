{
 "cells": [
  {
   "cell_type": "code",
   "execution_count": 1,
   "metadata": {
    "ExecuteTime": {
     "end_time": "2020-12-10T19:20:11.964545Z",
     "start_time": "2020-12-10T19:19:04.071353Z"
    }
   },
   "outputs": [
    {
     "name": "stdout",
     "output_type": "stream",
     "text": [
      "<class 'pandas.core.frame.DataFrame'>\n",
      "MultiIndex: 6974598 entries, (2, 55860) to (1102400, 8830447)\n",
      "Data columns (total 2 columns):\n",
      " #   Column  Dtype  \n",
      "---  ------  -----  \n",
      " 0   score   float64\n",
      " 1   rel     float64\n",
      "dtypes: float64(2)\n",
      "memory usage: 335.9 MB\n"
     ]
    }
   ],
   "source": [
    "import pandas as pd\n",
    "import numpy as np\n",
    "ltr_dev = pd.read_json('2020-11-29_16:56:08_b0444fd2-328d-11eb-a5d8-bfed4aec1d90/output.json')\n",
    "dev_qrel = pd.read_csv('collections/msmarco-passage/qrels.dev.small.tsv', sep=\"\\t\",\n",
    "                       names=[\"qid\", \"q0\", \"pid\", \"rel\"], \n",
    "                       usecols=['qid', 'pid', 'rel'])                                                                                         \n",
    "ltr_dev = ltr_dev.merge(dev_qrel, left_on=['qid', 'pid'], right_on=['qid', 'pid'], how='left')                                                                                                           \n",
    "ltr_dev['rel'] = ltr_dev['rel'].fillna(0)                                                                                                                                             \n",
    "ltr_dev = ltr_dev.sort_values(['qid','pid']).set_index(['qid','pid'])\n",
    "ltr_dev.info()"
   ]
  },
  {
   "cell_type": "code",
   "execution_count": 2,
   "metadata": {
    "ExecuteTime": {
     "end_time": "2020-12-10T19:20:31.667428Z",
     "start_time": "2020-12-10T19:20:11.978102Z"
    }
   },
   "outputs": [
    {
     "name": "stdout",
     "output_type": "stream",
     "text": [
      "<class 'pandas.core.frame.DataFrame'>\n",
      "MultiIndex: 6974598 entries, (2, 55860) to (1102400, 8830447)\n",
      "Data columns (total 2 columns):\n",
      " #   Column  Dtype  \n",
      "---  ------  -----  \n",
      " 0   score   float64\n",
      " 1   rel     float64\n",
      "dtypes: float64(2)\n",
      "memory usage: 335.9 MB\n"
     ]
    }
   ],
   "source": [
    "import pandas as pd\n",
    "import numpy as np\n",
    "bert_dev = pd.read_csv('../pygaggle/runs/run.monobert.ans_entire.dev.trec', sep=\"\\t\", \n",
    "                  names=['qid','q0','pid','rank','score','tag'],\n",
    "                  usecols=['qid', 'pid', 'score'])\n",
    "dev_qrel = pd.read_csv('collections/msmarco-passage/qrels.dev.small.tsv', sep=\"\\t\", \n",
    "                       names=[\"qid\", \"q0\", \"pid\", \"rel\"], \n",
    "                       usecols=['qid', 'pid', 'rel'])                                                                                         \n",
    "bert_dev = bert_dev.merge(dev_qrel, left_on=['qid', 'pid'], right_on=['qid', 'pid'], how='left')                                                                                                           \n",
    "bert_dev['rel'] = bert_dev['rel'].fillna(0)                                                                                                                                            \n",
    "bert_dev = bert_dev.sort_values(['qid','pid']).set_index(['qid','pid'])\n",
    "bert_dev.info()"
   ]
  },
  {
   "cell_type": "code",
   "execution_count": 3,
   "metadata": {
    "ExecuteTime": {
     "end_time": "2020-12-10T19:21:10.078287Z",
     "start_time": "2020-12-10T19:20:31.669893Z"
    }
   },
   "outputs": [
    {
     "name": "stdout",
     "output_type": "stream",
     "text": [
      "<class 'pandas.core.frame.DataFrame'>\n",
      "MultiIndex: 6974598 entries, (2, 55860) to (1102400, 8830447)\n",
      "Data columns (total 3 columns):\n",
      " #   Column  Dtype  \n",
      "---  ------  -----  \n",
      " 0   rank    int64  \n",
      " 1   score   float64\n",
      " 2   rel     float64\n",
      "dtypes: float64(2), int64(1)\n",
      "memory usage: 389.1 MB\n"
     ]
    }
   ],
   "source": [
    "import pandas as pd\n",
    "import numpy as np\n",
    "bm25_dev = pd.read_csv('../pygaggle/data/msmarco_ans_entire/run.bm25.dev.small.tsv', sep=\"\\t\", \n",
    "                  names=['qid','pid','rank'])\n",
    "bm25_dev['score'] = 1/bm25_dev['rank']\n",
    "dev_qrel = pd.read_csv('collections/msmarco-passage/qrels.dev.small.tsv', sep=\"\\t\", \n",
    "                       names=[\"qid\", \"q0\", \"pid\", \"rel\"], \n",
    "                       usecols=['qid', 'pid', 'rel'])                                                                                      \n",
    "bm25_dev = bm25_dev.merge(dev_qrel, left_on=['qid', 'pid'], right_on=['qid', 'pid'], how='left')                                                                                                           \n",
    "bm25_dev['rel'] = bm25_dev['rel'].fillna(0)                                                                                                                                            \n",
    "bm25_dev = bm25_dev.sort_values(['qid','pid']).set_index(['qid','pid'])\n",
    "bm25_dev.info()"
   ]
  },
  {
   "cell_type": "code",
   "execution_count": 4,
   "metadata": {
    "ExecuteTime": {
     "end_time": "2020-12-10T19:21:10.170103Z",
     "start_time": "2020-12-10T19:21:10.080741Z"
    }
   },
   "outputs": [],
   "source": [
    "from tqdm import tqdm\n",
    "def eval_mrr(dev_data):                                                                                                                                                                                  \n",
    "    score_tie_counter = 0                                                                                                                                                                                \n",
    "    score_tie_query = set()                                                                                                                                                                              \n",
    "    MRR = []                                                                                                                                                                                             \n",
    "    for qid, group in tqdm(dev_data.groupby('qid')):                                                                                                                                                     \n",
    "        group = group.reset_index()                                                                                                                                                                      \n",
    "        rank = 0                                                                                                                                                                                         \n",
    "        prev_score = None                                                                                                                                                                                \n",
    "        assert len(group['pid'].tolist()) == len(set(group['pid'].tolist()))                                                                                                                             \n",
    "        # stable sort is also used in LightGBM                                                                                                                                                           \n",
    "                                                                                                                                                                                                         \n",
    "        for t in group.sort_values('score', ascending=False, kind='mergesort').itertuples():                                                                                                             \n",
    "            if prev_score is not None and abs(t.score - prev_score) < 1e-8:                                                                                                                              \n",
    "                score_tie_counter += 1                                                                                                                                                                   \n",
    "                score_tie_query.add(qid)                                                                                                                                                                 \n",
    "            prev_score = t.score                                                                                                                                                                         \n",
    "            prev_pid = t.pid                                                                                                                                                                             \n",
    "            rank += 1                                                                                                                                                                                    \n",
    "            if t.rel>0:                                                                                                                                                                                  \n",
    "                MRR.append(1.0/rank)                                                                                                                                                                     \n",
    "                break                                                                                                                                                                                    \n",
    "            elif rank == 10 or rank == len(group):\n",
    "                MRR.append(0.)\n",
    "                break\n",
    "\n",
    "    score_tie = f'score_tie occurs {score_tie_counter} times in {len(score_tie_query)} queries'\n",
    "    print(score_tie)\n",
    "    mrr_10 = np.mean(MRR).item()\n",
    "    print(f'MRR@10:{mrr_10} with {len(MRR)} queries')\n",
    "    return {'score_tie': score_tie, 'mrr_10': mrr_10}"
   ]
  },
  {
   "cell_type": "code",
   "execution_count": 5,
   "metadata": {
    "ExecuteTime": {
     "end_time": "2020-12-10T19:21:32.860299Z",
     "start_time": "2020-12-10T19:21:10.172060Z"
    }
   },
   "outputs": [
    {
     "name": "stderr",
     "output_type": "stream",
     "text": [
      "100%|██████████| 6980/6980 [00:21<00:00, 320.64it/s]"
     ]
    },
    {
     "name": "stdout",
     "output_type": "stream",
     "text": [
      "score_tie occurs 895 times in 647 queries\n",
      "MRR@10:0.21159025787965619 with 6980 queries\n"
     ]
    },
    {
     "name": "stderr",
     "output_type": "stream",
     "text": [
      "\n"
     ]
    },
    {
     "data": {
      "text/plain": [
       "{'score_tie': 'score_tie occurs 895 times in 647 queries',\n",
       " 'mrr_10': 0.21159025787965619}"
      ]
     },
     "execution_count": 5,
     "metadata": {},
     "output_type": "execute_result"
    }
   ],
   "source": [
    "eval_mrr(ltr_dev)"
   ]
  },
  {
   "cell_type": "code",
   "execution_count": 6,
   "metadata": {
    "ExecuteTime": {
     "end_time": "2020-12-10T19:21:57.963574Z",
     "start_time": "2020-12-10T19:21:32.862785Z"
    }
   },
   "outputs": [
    {
     "name": "stderr",
     "output_type": "stream",
     "text": [
      "100%|██████████| 6980/6980 [00:24<00:00, 285.69it/s]"
     ]
    },
    {
     "name": "stdout",
     "output_type": "stream",
     "text": [
      "score_tie occurs 106 times in 103 queries\n",
      "MRR@10:0.37926735116205024 with 6980 queries\n"
     ]
    },
    {
     "name": "stderr",
     "output_type": "stream",
     "text": [
      "\n"
     ]
    },
    {
     "data": {
      "text/plain": [
       "{'score_tie': 'score_tie occurs 106 times in 103 queries',\n",
       " 'mrr_10': 0.37926735116205024}"
      ]
     },
     "execution_count": 6,
     "metadata": {},
     "output_type": "execute_result"
    }
   ],
   "source": [
    "eval_mrr(bert_dev)"
   ]
  },
  {
   "cell_type": "code",
   "execution_count": 7,
   "metadata": {
    "ExecuteTime": {
     "end_time": "2020-12-10T19:22:19.247531Z",
     "start_time": "2020-12-10T19:21:57.966569Z"
    }
   },
   "outputs": [
    {
     "name": "stderr",
     "output_type": "stream",
     "text": [
      "100%|██████████| 6980/6980 [00:20<00:00, 340.71it/s]"
     ]
    },
    {
     "name": "stdout",
     "output_type": "stream",
     "text": [
      "score_tie occurs 0 times in 0 queries\n",
      "MRR@10:0.1873645222176741 with 6980 queries\n"
     ]
    },
    {
     "name": "stderr",
     "output_type": "stream",
     "text": [
      "\n"
     ]
    },
    {
     "data": {
      "text/plain": [
       "{'score_tie': 'score_tie occurs 0 times in 0 queries',\n",
       " 'mrr_10': 0.1873645222176741}"
      ]
     },
     "execution_count": 7,
     "metadata": {},
     "output_type": "execute_result"
    }
   ],
   "source": [
    "eval_mrr(bm25_dev)"
   ]
  },
  {
   "cell_type": "code",
   "execution_count": 8,
   "metadata": {
    "ExecuteTime": {
     "end_time": "2020-12-10T19:22:22.455471Z",
     "start_time": "2020-12-10T19:22:19.249219Z"
    }
   },
   "outputs": [
    {
     "name": "stdout",
     "output_type": "stream",
     "text": [
      "<class 'pandas.core.frame.DataFrame'>\n",
      "MultiIndex: 6974598 entries, (2, 55860) to (1102400, 8830447)\n",
      "Data columns (total 3 columns):\n",
      " #   Column     Dtype  \n",
      "---  ------     -----  \n",
      " 0   scoreltr   float64\n",
      " 1   rel        float64\n",
      " 2   scorebert  float64\n",
      "dtypes: float64(3)\n",
      "memory usage: 709.1 MB\n"
     ]
    }
   ],
   "source": [
    "merge_dev = ltr_dev.join(bert_dev,lsuffix='ltr',rsuffix='bert')\n",
    "assert (merge_dev['relltr'] == merge_dev['relbert']).all()\n",
    "merge_dev = merge_dev.rename(columns={\"relltr\": \"rel\"})\n",
    "del merge_dev['relbert']\n",
    "merge_dev.info()"
   ]
  },
  {
   "cell_type": "code",
   "execution_count": 11,
   "metadata": {
    "ExecuteTime": {
     "end_time": "2020-12-10T19:22:26.225625Z",
     "start_time": "2020-12-10T19:22:26.217209Z"
    }
   },
   "outputs": [],
   "source": [
    "def genLTRBertRerank(merge_dev, cutoff=100):\n",
    "    bert_rerank = []\n",
    "    for qid, group in tqdm(merge_dev.groupby('qid')):                                                                                                                                                     \n",
    "        group = group.reset_index()                                                                                                                                                                      \n",
    "        rank = 0\n",
    "        temp = []\n",
    "        for t in group.sort_values('scoreltr', ascending=False, kind='mergesort').itertuples():                                                                                                                                                                                                                                                                                     \n",
    "            rank += 1\n",
    "            if rank <= cutoff:\n",
    "                temp.append((qid, t.pid, t.scorebert, rank, t.rel))\n",
    "            else:\n",
    "                break\n",
    "        bert_rerank.extend(sorted(temp, key=lambda x:x[2], reverse=True))\n",
    "    return pd.DataFrame(bert_rerank, \n",
    "                        columns=['qid','pid','score','rank','rel']\n",
    "                       ).set_index(['qid','pid'])"
   ]
  },
  {
   "cell_type": "code",
   "execution_count": 12,
   "metadata": {
    "ExecuteTime": {
     "end_time": "2020-12-10T19:31:21.238627Z",
     "start_time": "2020-12-10T19:22:26.704747Z"
    }
   },
   "outputs": [
    {
     "name": "stderr",
     "output_type": "stream",
     "text": [
      "100%|██████████| 6980/6980 [00:24<00:00, 286.78it/s]\n",
      "100%|██████████| 6980/6980 [00:21<00:00, 321.93it/s]\n"
     ]
    },
    {
     "name": "stdout",
     "output_type": "stream",
     "text": [
      "score_tie occurs 107 times in 104 queries\n",
      "MRR@10:0.36238891162959935 with 6980 queries\n"
     ]
    },
    {
     "name": "stderr",
     "output_type": "stream",
     "text": [
      "100%|██████████| 6980/6980 [00:26<00:00, 259.23it/s]\n",
      "100%|██████████| 6980/6980 [00:20<00:00, 340.69it/s]\n"
     ]
    },
    {
     "name": "stdout",
     "output_type": "stream",
     "text": [
      "score_tie occurs 107 times in 102 queries\n",
      "MRR@10:0.37100764087870103 with 6980 queries\n"
     ]
    },
    {
     "name": "stderr",
     "output_type": "stream",
     "text": [
      "100%|██████████| 6980/6980 [00:29<00:00, 236.83it/s]\n",
      "100%|██████████| 6980/6980 [00:20<00:00, 336.76it/s]\n"
     ]
    },
    {
     "name": "stdout",
     "output_type": "stream",
     "text": [
      "score_tie occurs 108 times in 103 queries\n",
      "MRR@10:0.3739002023923227 with 6980 queries\n"
     ]
    },
    {
     "name": "stderr",
     "output_type": "stream",
     "text": [
      "100%|██████████| 6980/6980 [00:26<00:00, 266.79it/s]\n",
      "100%|██████████| 6980/6980 [00:21<00:00, 325.09it/s]\n"
     ]
    },
    {
     "name": "stdout",
     "output_type": "stream",
     "text": [
      "score_tie occurs 110 times in 105 queries\n",
      "MRR@10:0.3757991085641515 with 6980 queries\n"
     ]
    },
    {
     "name": "stderr",
     "output_type": "stream",
     "text": [
      "100%|██████████| 6980/6980 [00:34<00:00, 202.68it/s]\n",
      "100%|██████████| 6980/6980 [00:20<00:00, 333.27it/s]\n"
     ]
    },
    {
     "name": "stdout",
     "output_type": "stream",
     "text": [
      "score_tie occurs 113 times in 108 queries\n",
      "MRR@10:0.3772741847455314 with 6980 queries\n"
     ]
    },
    {
     "name": "stderr",
     "output_type": "stream",
     "text": [
      "100%|██████████| 6980/6980 [00:21<00:00, 330.39it/s]\n",
      "100%|██████████| 6980/6980 [00:18<00:00, 382.53it/s]\n"
     ]
    },
    {
     "name": "stdout",
     "output_type": "stream",
     "text": [
      "score_tie occurs 113 times in 108 queries\n",
      "MRR@10:0.37806078591895215 with 6980 queries\n"
     ]
    },
    {
     "name": "stderr",
     "output_type": "stream",
     "text": [
      "100%|██████████| 6980/6980 [00:23<00:00, 303.23it/s]\n",
      "100%|██████████| 6980/6980 [00:14<00:00, 467.02it/s]\n"
     ]
    },
    {
     "name": "stdout",
     "output_type": "stream",
     "text": [
      "score_tie occurs 112 times in 107 queries\n",
      "MRR@10:0.37832349797607673 with 6980 queries\n"
     ]
    },
    {
     "name": "stderr",
     "output_type": "stream",
     "text": [
      "100%|██████████| 6980/6980 [00:24<00:00, 287.47it/s]\n",
      "100%|██████████| 6980/6980 [00:15<00:00, 459.82it/s]\n"
     ]
    },
    {
     "name": "stdout",
     "output_type": "stream",
     "text": [
      "score_tie occurs 110 times in 106 queries\n",
      "MRR@10:0.37886592077136494 with 6980 queries\n"
     ]
    },
    {
     "name": "stderr",
     "output_type": "stream",
     "text": [
      "100%|██████████| 6980/6980 [00:26<00:00, 264.09it/s]\n",
      "100%|██████████| 6980/6980 [00:14<00:00, 487.87it/s]\n"
     ]
    },
    {
     "name": "stdout",
     "output_type": "stream",
     "text": [
      "score_tie occurs 105 times in 103 queries\n",
      "MRR@10:0.37900594669577475 with 6980 queries\n"
     ]
    },
    {
     "name": "stderr",
     "output_type": "stream",
     "text": [
      "100%|██████████| 6980/6980 [00:28<00:00, 246.82it/s]\n",
      "100%|██████████| 6980/6980 [00:13<00:00, 535.28it/s]"
     ]
    },
    {
     "name": "stdout",
     "output_type": "stream",
     "text": [
      "score_tie occurs 106 times in 103 queries\n",
      "MRR@10:0.3792195956701687 with 6980 queries\n"
     ]
    },
    {
     "name": "stderr",
     "output_type": "stream",
     "text": [
      "\n"
     ]
    }
   ],
   "source": [
    "for i in range(100,1001,100):\n",
    "    eval_mrr(genLTRBertRerank(merge_dev, i))"
   ]
  },
  {
   "cell_type": "code",
   "execution_count": 22,
   "metadata": {
    "ExecuteTime": {
     "end_time": "2020-12-10T19:33:28.613642Z",
     "start_time": "2020-12-10T19:33:27.992858Z"
    }
   },
   "outputs": [
    {
     "name": "stdout",
     "output_type": "stream",
     "text": [
      "<class 'pandas.core.frame.DataFrame'>\n",
      "MultiIndex: 6974598 entries, (2, 55860) to (1102400, 8830447)\n",
      "Data columns (total 4 columns):\n",
      " #   Column     Dtype  \n",
      "---  ------     -----  \n",
      " 0   rank       int64  \n",
      " 1   scorebm25  float64\n",
      " 2   rel        float64\n",
      " 3   scorebert  float64\n",
      "dtypes: float64(3), int64(1)\n",
      "memory usage: 762.3 MB\n"
     ]
    }
   ],
   "source": [
    "merge_dev = bm25_dev.join(bert_dev,lsuffix='bm25',rsuffix='bert')\n",
    "assert (merge_dev['relbm25'] == merge_dev['relbert']).all()\n",
    "merge_dev = merge_dev.rename(columns={\"relbm25\": \"rel\"})\n",
    "del merge_dev['relbert']\n",
    "merge_dev.info()"
   ]
  },
  {
   "cell_type": "code",
   "execution_count": 23,
   "metadata": {
    "ExecuteTime": {
     "end_time": "2020-12-10T19:33:32.128513Z",
     "start_time": "2020-12-10T19:33:32.116499Z"
    }
   },
   "outputs": [],
   "source": [
    "def genBM25BertRerank(merge_dev, cutoff=100):\n",
    "    bert_rerank = []\n",
    "    for qid, group in tqdm(merge_dev.groupby('qid')):                                                                                                                                                     \n",
    "        group = group.reset_index()                                                                                                                                                                      \n",
    "        rank = 0\n",
    "        temp = []\n",
    "        for t in group.sort_values('scorebm25', ascending=False, kind='mergesort').itertuples():                                                                                                                                                                                                                                                                                     \n",
    "            rank += 1\n",
    "            if rank <= cutoff:\n",
    "                temp.append((qid, t.pid, t.scorebert, rank, t.rel))\n",
    "            else:\n",
    "                break\n",
    "        bert_rerank.extend(sorted(temp, key=lambda x:x[2], reverse=True))\n",
    "    return pd.DataFrame(bert_rerank, \n",
    "                        columns=['qid','pid','score','rank','rel']\n",
    "                       ).set_index(['qid','pid'])"
   ]
  },
  {
   "cell_type": "code",
   "execution_count": 24,
   "metadata": {
    "ExecuteTime": {
     "end_time": "2020-12-10T19:40:00.336924Z",
     "start_time": "2020-12-10T19:33:33.248028Z"
    }
   },
   "outputs": [
    {
     "name": "stderr",
     "output_type": "stream",
     "text": [
      "100%|██████████| 6980/6980 [00:14<00:00, 483.47it/s]\n",
      "100%|██████████| 6980/6980 [00:12<00:00, 581.20it/s]\n"
     ]
    },
    {
     "name": "stdout",
     "output_type": "stream",
     "text": [
      "score_tie occurs 101 times in 99 queries\n",
      "MRR@10:0.3537466457452131 with 6980 queries\n"
     ]
    },
    {
     "name": "stderr",
     "output_type": "stream",
     "text": [
      "100%|██████████| 6980/6980 [00:15<00:00, 460.39it/s]\n",
      "100%|██████████| 6980/6980 [00:12<00:00, 570.91it/s]\n"
     ]
    },
    {
     "name": "stdout",
     "output_type": "stream",
     "text": [
      "score_tie occurs 101 times in 98 queries\n",
      "MRR@10:0.36375744758266243 with 6980 queries\n"
     ]
    },
    {
     "name": "stderr",
     "output_type": "stream",
     "text": [
      "100%|██████████| 6980/6980 [00:16<00:00, 424.23it/s]\n",
      "100%|██████████| 6980/6980 [00:12<00:00, 578.50it/s]\n"
     ]
    },
    {
     "name": "stdout",
     "output_type": "stream",
     "text": [
      "score_tie occurs 102 times in 99 queries\n",
      "MRR@10:0.36836568199390546 with 6980 queries\n"
     ]
    },
    {
     "name": "stderr",
     "output_type": "stream",
     "text": [
      "100%|██████████| 6980/6980 [00:17<00:00, 400.04it/s]\n",
      "100%|██████████| 6980/6980 [00:12<00:00, 558.31it/s]\n"
     ]
    },
    {
     "name": "stdout",
     "output_type": "stream",
     "text": [
      "score_tie occurs 101 times in 98 queries\n",
      "MRR@10:0.3710188975303589 with 6980 queries\n"
     ]
    },
    {
     "name": "stderr",
     "output_type": "stream",
     "text": [
      "100%|██████████| 6980/6980 [00:18<00:00, 374.41it/s]\n",
      "100%|██████████| 6980/6980 [00:12<00:00, 557.17it/s]\n"
     ]
    },
    {
     "name": "stdout",
     "output_type": "stream",
     "text": [
      "score_tie occurs 108 times in 105 queries\n",
      "MRR@10:0.37218953245099373 with 6980 queries\n"
     ]
    },
    {
     "name": "stderr",
     "output_type": "stream",
     "text": [
      "100%|██████████| 6980/6980 [00:19<00:00, 350.02it/s]\n",
      "100%|██████████| 6980/6980 [00:12<00:00, 553.16it/s]\n"
     ]
    },
    {
     "name": "stdout",
     "output_type": "stream",
     "text": [
      "score_tie occurs 108 times in 105 queries\n",
      "MRR@10:0.3751480420248329 with 6980 queries\n"
     ]
    },
    {
     "name": "stderr",
     "output_type": "stream",
     "text": [
      "100%|██████████| 6980/6980 [00:21<00:00, 328.82it/s]\n",
      "100%|██████████| 6980/6980 [00:12<00:00, 548.16it/s]\n"
     ]
    },
    {
     "name": "stdout",
     "output_type": "stream",
     "text": [
      "score_tie occurs 108 times in 106 queries\n",
      "MRR@10:0.37607569245463224 with 6980 queries\n"
     ]
    },
    {
     "name": "stderr",
     "output_type": "stream",
     "text": [
      "100%|██████████| 6980/6980 [00:22<00:00, 312.15it/s]\n",
      "100%|██████████| 6980/6980 [00:12<00:00, 544.55it/s]\n"
     ]
    },
    {
     "name": "stdout",
     "output_type": "stream",
     "text": [
      "score_tie occurs 107 times in 105 queries\n",
      "MRR@10:0.37704177468504113 with 6980 queries\n"
     ]
    },
    {
     "name": "stderr",
     "output_type": "stream",
     "text": [
      "100%|██████████| 6980/6980 [00:23<00:00, 297.79it/s]\n",
      "100%|██████████| 6980/6980 [00:12<00:00, 542.17it/s]\n"
     ]
    },
    {
     "name": "stdout",
     "output_type": "stream",
     "text": [
      "score_tie occurs 107 times in 105 queries\n",
      "MRR@10:0.37852566289170875 with 6980 queries\n"
     ]
    },
    {
     "name": "stderr",
     "output_type": "stream",
     "text": [
      "100%|██████████| 6980/6980 [00:24<00:00, 282.88it/s]\n",
      "100%|██████████| 6980/6980 [00:13<00:00, 532.18it/s]"
     ]
    },
    {
     "name": "stdout",
     "output_type": "stream",
     "text": [
      "score_tie occurs 106 times in 103 queries\n",
      "MRR@10:0.3792195956701687 with 6980 queries\n"
     ]
    },
    {
     "name": "stderr",
     "output_type": "stream",
     "text": [
      "\n"
     ]
    }
   ],
   "source": [
    "for i in range(100,1001,100):\n",
    "    eval_mrr(genBM25BertRerank(merge_dev, i))"
   ]
  },
  {
   "cell_type": "code",
   "execution_count": null,
   "metadata": {},
   "outputs": [],
   "source": []
  }
 ],
 "metadata": {
  "kernelspec": {
   "display_name": "Python 3",
   "language": "python",
   "name": "python3"
  },
  "language_info": {
   "codemirror_mode": {
    "name": "ipython",
    "version": 3
   },
   "file_extension": ".py",
   "mimetype": "text/x-python",
   "name": "python",
   "nbconvert_exporter": "python",
   "pygments_lexer": "ipython3",
   "version": "3.8.3"
  }
 },
 "nbformat": 4,
 "nbformat_minor": 4
}
