{
 "cells": [
  {
   "cell_type": "code",
   "execution_count": 2,
   "metadata": {
    "ExecuteTime": {
     "end_time": "2021-01-06T18:03:59.266143Z",
     "start_time": "2021-01-06T18:03:24.558183Z"
    }
   },
   "outputs": [
    {
     "name": "stdout",
     "output_type": "stream",
     "text": [
      "<class 'pandas.core.frame.DataFrame'>\n",
      "MultiIndex: 3487910 entries, (2, 98589) to (1102400, 8830442)\n",
      "Data columns (total 3 columns):\n",
      " #   Column  Dtype  \n",
      "---  ------  -----  \n",
      " 0   rank    int64  \n",
      " 1   score   float64\n",
      " 2   rel     float64\n",
      "dtypes: float64(2), int64(1)\n",
      "memory usage: 200.0 MB\n"
     ]
    }
   ],
   "source": [
    "import pandas as pd\n",
    "import numpy as np\n",
    "ltr_dev = pd.read_csv('predict_ibm+multi_10k.trec', sep=\"\\t\", \n",
    "                  names=['qid','q0','pid','rank','score','tag'],\n",
    "                  usecols=['qid', 'pid','rank','score'])\n",
    "ltr_dev = ltr_dev[ltr_dev['rank']<=500]\n",
    "ltr_dev['score'] = 1/ltr_dev['rank']\n",
    "\n",
    "dev_qrel = pd.read_csv('../collections/msmarco-passage/qrels.dev.small.tsv', sep=\"\\t\",\n",
    "                       names=[\"qid\", \"q0\", \"pid\", \"rel\"], \n",
    "                       usecols=['qid', 'pid', 'rel'])\n",
    "\n",
    "ltr_dev = ltr_dev.merge(dev_qrel, left_on=['qid', 'pid'], right_on=['qid', 'pid'], how='left')                                                                                                           \n",
    "ltr_dev['rel'] = ltr_dev['rel'].fillna(0)                                                                                                                                             \n",
    "ltr_dev = ltr_dev.sort_values(['qid','pid']).set_index(['qid','pid'])\n",
    "ltr_dev.info()"
   ]
  },
  {
   "cell_type": "code",
   "execution_count": 3,
   "metadata": {
    "ExecuteTime": {
     "end_time": "2021-01-06T18:04:06.317781Z",
     "start_time": "2021-01-06T18:03:59.268845Z"
    }
   },
   "outputs": [
    {
     "name": "stdout",
     "output_type": "stream",
     "text": [
      "<class 'pandas.core.frame.DataFrame'>\n",
      "MultiIndex: 3487910 entries, (2, 98589) to (1102400, 8830442)\n",
      "Data columns (total 3 columns):\n",
      " #   Column  Dtype  \n",
      "---  ------  -----  \n",
      " 0   rank    int64  \n",
      " 1   score   float64\n",
      " 2   rel     float64\n",
      "dtypes: float64(2), int64(1)\n",
      "memory usage: 200.0 MB\n"
     ]
    }
   ],
   "source": [
    "import pandas as pd\n",
    "import numpy as np\n",
    "bert_dev = pd.read_csv('../../pygaggle/runs/run.monobert.ibm_multi_500.trec', sep=\"\\t\", \n",
    "                  names=['qid','q0','pid','rank','score','tag'],\n",
    "                  usecols=['qid', 'pid','rank','score'])\n",
    "bert_dev['score'] = 1/bert_dev['rank']\n",
    "\n",
    "dev_qrel = pd.read_csv('../collections/msmarco-passage/qrels.dev.small.tsv', sep=\"\\t\", \n",
    "                       names=[\"qid\", \"q0\", \"pid\", \"rel\"], \n",
    "                       usecols=['qid', 'pid', 'rel'])\n",
    "\n",
    "bert_dev = bert_dev.merge(dev_qrel, left_on=['qid', 'pid'], right_on=['qid', 'pid'], how='left')                                                                                                           \n",
    "bert_dev['rel'] = bert_dev['rel'].fillna(0)                                                                                                                                            \n",
    "bert_dev = bert_dev.sort_values(['qid','pid']).set_index(['qid','pid'])\n",
    "bert_dev.info()"
   ]
  },
  {
   "cell_type": "code",
   "execution_count": 4,
   "metadata": {
    "ExecuteTime": {
     "end_time": "2021-01-06T18:04:18.043484Z",
     "start_time": "2021-01-06T18:04:06.320299Z"
    }
   },
   "outputs": [
    {
     "name": "stdout",
     "output_type": "stream",
     "text": [
      "<class 'pandas.core.frame.DataFrame'>\n",
      "MultiIndex: 6974598 entries, (2, 55860) to (1102400, 8830447)\n",
      "Data columns (total 3 columns):\n",
      " #   Column  Dtype  \n",
      "---  ------  -----  \n",
      " 0   rank    int64  \n",
      " 1   score   float64\n",
      " 2   rel     float64\n",
      "dtypes: float64(2), int64(1)\n",
      "memory usage: 389.1 MB\n"
     ]
    }
   ],
   "source": [
    "import pandas as pd\n",
    "import numpy as np\n",
    "bm25_dev = pd.read_csv('../../pygaggle/data/msmarco_ans_entire/run.bm25.dev.small.tsv', sep=\"\\t\", \n",
    "                  names=['qid','pid','rank'])\n",
    "bm25_dev['score'] = 1/bm25_dev['rank']\n",
    "\n",
    "dev_qrel = pd.read_csv('../collections/msmarco-passage/qrels.dev.small.tsv', sep=\"\\t\", \n",
    "                       names=[\"qid\", \"q0\", \"pid\", \"rel\"], \n",
    "                       usecols=['qid', 'pid', 'rel'])                                                                                      \n",
    "bm25_dev = bm25_dev.merge(dev_qrel, left_on=['qid', 'pid'], right_on=['qid', 'pid'], how='left')                                                                                                           \n",
    "bm25_dev['rel'] = bm25_dev['rel'].fillna(0)                                                                                                                                            \n",
    "bm25_dev = bm25_dev.sort_values(['qid','pid']).set_index(['qid','pid'])\n",
    "bm25_dev.info()"
   ]
  },
  {
   "cell_type": "code",
   "execution_count": 5,
   "metadata": {
    "ExecuteTime": {
     "end_time": "2021-01-06T18:04:18.088586Z",
     "start_time": "2021-01-06T18:04:18.045594Z"
    }
   },
   "outputs": [],
   "source": [
    "from tqdm import tqdm\n",
    "def eval_mrr(dev_data):                                                                                                                                                                                  \n",
    "    score_tie_counter = 0                                                                                                                                                                                \n",
    "    score_tie_query = set()                                                                                                                                                                              \n",
    "    MRR = []                                                                                                                                                                                             \n",
    "    for qid, group in tqdm(dev_data.groupby('qid')):                                                                                                                                                     \n",
    "        group = group.reset_index()                                                                                                                                                                      \n",
    "        rank = 0                                                                                                                                                                                         \n",
    "        prev_score = None                                                                                                                                                                                \n",
    "        assert len(group['pid'].tolist()) == len(set(group['pid'].tolist()))                                                                                                                             \n",
    "        # stable sort is also used in LightGBM                                                                                                                                                           \n",
    "                                                                                                                                                                                                         \n",
    "        for t in group.sort_values('score', ascending=False, kind='mergesort').itertuples():                                                                                                             \n",
    "            if prev_score is not None and abs(t.score - prev_score) < 1e-8:                                                                                                                              \n",
    "                score_tie_counter += 1                                                                                                                                                                   \n",
    "                score_tie_query.add(qid)                                                                                                                                                                 \n",
    "            prev_score = t.score                                                                                                                                                                         \n",
    "            prev_pid = t.pid                                                                                                                                                                             \n",
    "            rank += 1                                                                                                                                                                                    \n",
    "            if t.rel>0:                                                                                                                                                                                  \n",
    "                MRR.append(1.0/rank)                                                                                                                                                                     \n",
    "                break                                                                                                                                                                                    \n",
    "            elif rank == 10 or rank == len(group):\n",
    "                MRR.append(0.)\n",
    "                break\n",
    "\n",
    "    score_tie = f'score_tie occurs {score_tie_counter} times in {len(score_tie_query)} queries'\n",
    "    print(score_tie)\n",
    "    mrr_10 = np.mean(MRR).item()\n",
    "    print(f'MRR@10:{mrr_10} with {len(MRR)} queries')\n",
    "    return {'score_tie': score_tie, 'mrr_10': mrr_10}"
   ]
  },
  {
   "cell_type": "code",
   "execution_count": 6,
   "metadata": {
    "ExecuteTime": {
     "end_time": "2021-01-06T18:04:31.407937Z",
     "start_time": "2021-01-06T18:04:18.091497Z"
    }
   },
   "outputs": [
    {
     "name": "stderr",
     "output_type": "stream",
     "text": [
      "100%|██████████| 6980/6980 [00:12<00:00, 537.59it/s]"
     ]
    },
    {
     "name": "stdout",
     "output_type": "stream",
     "text": [
      "score_tie occurs 0 times in 0 queries\n",
      "MRR@10:0.25067727520807753 with 6980 queries\n"
     ]
    },
    {
     "name": "stderr",
     "output_type": "stream",
     "text": [
      "\n"
     ]
    },
    {
     "data": {
      "text/plain": [
       "{'score_tie': 'score_tie occurs 0 times in 0 queries',\n",
       " 'mrr_10': 0.25067727520807753}"
      ]
     },
     "execution_count": 6,
     "metadata": {},
     "output_type": "execute_result"
    }
   ],
   "source": [
    "eval_mrr(ltr_dev)"
   ]
  },
  {
   "cell_type": "code",
   "execution_count": 7,
   "metadata": {
    "ExecuteTime": {
     "end_time": "2021-01-06T18:04:44.802791Z",
     "start_time": "2021-01-06T18:04:31.409213Z"
    }
   },
   "outputs": [
    {
     "name": "stderr",
     "output_type": "stream",
     "text": [
      "100%|██████████| 6980/6980 [00:13<00:00, 534.99it/s]"
     ]
    },
    {
     "name": "stdout",
     "output_type": "stream",
     "text": [
      "score_tie occurs 0 times in 0 queries\n",
      "MRR@10:0.3872089757584027 with 6980 queries\n"
     ]
    },
    {
     "name": "stderr",
     "output_type": "stream",
     "text": [
      "\n"
     ]
    },
    {
     "data": {
      "text/plain": [
       "{'score_tie': 'score_tie occurs 0 times in 0 queries',\n",
       " 'mrr_10': 0.3872089757584027}"
      ]
     },
     "execution_count": 7,
     "metadata": {},
     "output_type": "execute_result"
    }
   ],
   "source": [
    "eval_mrr(bert_dev)"
   ]
  },
  {
   "cell_type": "code",
   "execution_count": 8,
   "metadata": {
    "ExecuteTime": {
     "end_time": "2021-01-06T18:04:58.947944Z",
     "start_time": "2021-01-06T18:04:44.804532Z"
    }
   },
   "outputs": [
    {
     "name": "stderr",
     "output_type": "stream",
     "text": [
      "100%|██████████| 6980/6980 [00:13<00:00, 509.37it/s]"
     ]
    },
    {
     "name": "stdout",
     "output_type": "stream",
     "text": [
      "score_tie occurs 0 times in 0 queries\n",
      "MRR@10:0.1873645222176741 with 6980 queries\n"
     ]
    },
    {
     "name": "stderr",
     "output_type": "stream",
     "text": [
      "\n"
     ]
    },
    {
     "data": {
      "text/plain": [
       "{'score_tie': 'score_tie occurs 0 times in 0 queries',\n",
       " 'mrr_10': 0.1873645222176741}"
      ]
     },
     "execution_count": 8,
     "metadata": {},
     "output_type": "execute_result"
    }
   ],
   "source": [
    "eval_mrr(bm25_dev)"
   ]
  },
  {
   "cell_type": "code",
   "execution_count": 9,
   "metadata": {
    "ExecuteTime": {
     "end_time": "2021-01-06T18:05:00.186474Z",
     "start_time": "2021-01-06T18:04:58.950629Z"
    }
   },
   "outputs": [
    {
     "name": "stdout",
     "output_type": "stream",
     "text": [
      "<class 'pandas.core.frame.DataFrame'>\n",
      "MultiIndex: 3487910 entries, (2, 98589) to (1102400, 8830442)\n",
      "Data columns (total 5 columns):\n",
      " #   Column     Dtype  \n",
      "---  ------     -----  \n",
      " 0   rankltr    int64  \n",
      " 1   scoreltr   float64\n",
      " 2   rel        float64\n",
      " 3   rankbert   int64  \n",
      " 4   scorebert  float64\n",
      "dtypes: float64(3), int64(2)\n",
      "memory usage: 413.2 MB\n"
     ]
    }
   ],
   "source": [
    "merge_dev = ltr_dev.join(bert_dev,how='left',lsuffix='ltr',rsuffix='bert')\n",
    "merge_dev = merge_dev.rename(columns={\"relltr\": \"rel\"})\n",
    "del merge_dev['relbert']\n",
    "merge_dev.info()"
   ]
  },
  {
   "cell_type": "code",
   "execution_count": 11,
   "metadata": {
    "ExecuteTime": {
     "end_time": "2021-01-06T18:05:00.241122Z",
     "start_time": "2021-01-06T18:05:00.231885Z"
    }
   },
   "outputs": [],
   "source": [
    "def genLTRBertRerank(merge_dev, cutoff=100):\n",
    "    bert_rerank = []\n",
    "    for qid, group in tqdm(merge_dev.groupby('qid')):                                                                                                                                                     \n",
    "        group = group.reset_index()                                                                                                                                                                      \n",
    "        rank = 0\n",
    "        temp = []\n",
    "        for t in group.sort_values('scoreltr', ascending=False, kind='mergesort').itertuples():                                                                                                                                                                                                                                                                                     \n",
    "            rank += 1\n",
    "            if rank <= cutoff:\n",
    "                temp.append((qid, t.pid, t.scorebert, rank, t.rel))\n",
    "            else:\n",
    "                break\n",
    "        bert_rerank.extend(sorted(temp, key=lambda x:x[2], reverse=True))\n",
    "    return pd.DataFrame(bert_rerank, \n",
    "                        columns=['qid','pid','score','rank','rel']\n",
    "                       ).set_index(['qid','pid'])"
   ]
  },
  {
   "cell_type": "code",
   "execution_count": 12,
   "metadata": {
    "ExecuteTime": {
     "end_time": "2021-01-06T18:07:46.267517Z",
     "start_time": "2021-01-06T18:05:00.243631Z"
    }
   },
   "outputs": [
    {
     "name": "stderr",
     "output_type": "stream",
     "text": [
      "100%|██████████| 6980/6980 [00:14<00:00, 479.95it/s]\n",
      "100%|██████████| 6980/6980 [00:12<00:00, 561.46it/s]\n"
     ]
    },
    {
     "name": "stdout",
     "output_type": "stream",
     "text": [
      "score_tie occurs 0 times in 0 queries\n",
      "MRR@10:0.38091883840451174 with 6980 queries\n"
     ]
    },
    {
     "name": "stderr",
     "output_type": "stream",
     "text": [
      "100%|██████████| 6980/6980 [00:15<00:00, 442.78it/s]\n",
      "100%|██████████| 6980/6980 [00:12<00:00, 564.51it/s]\n"
     ]
    },
    {
     "name": "stdout",
     "output_type": "stream",
     "text": [
      "score_tie occurs 0 times in 0 queries\n",
      "MRR@10:0.3851020489380088 with 6980 queries\n"
     ]
    },
    {
     "name": "stderr",
     "output_type": "stream",
     "text": [
      "100%|██████████| 6980/6980 [00:17<00:00, 409.66it/s]\n",
      "100%|██████████| 6980/6980 [00:12<00:00, 564.51it/s]\n"
     ]
    },
    {
     "name": "stdout",
     "output_type": "stream",
     "text": [
      "score_tie occurs 0 times in 0 queries\n",
      "MRR@10:0.3859924614544959 with 6980 queries\n"
     ]
    },
    {
     "name": "stderr",
     "output_type": "stream",
     "text": [
      "100%|██████████| 6980/6980 [00:18<00:00, 385.88it/s]\n",
      "100%|██████████| 6980/6980 [00:12<00:00, 562.49it/s]\n"
     ]
    },
    {
     "name": "stdout",
     "output_type": "stream",
     "text": [
      "score_tie occurs 0 times in 0 queries\n",
      "MRR@10:0.3868120935098013 with 6980 queries\n"
     ]
    },
    {
     "name": "stderr",
     "output_type": "stream",
     "text": [
      "100%|██████████| 6980/6980 [00:19<00:00, 362.99it/s]\n",
      "100%|██████████| 6980/6980 [00:12<00:00, 556.13it/s]"
     ]
    },
    {
     "name": "stdout",
     "output_type": "stream",
     "text": [
      "score_tie occurs 0 times in 0 queries\n",
      "MRR@10:0.3872089757584027 with 6980 queries\n"
     ]
    },
    {
     "name": "stderr",
     "output_type": "stream",
     "text": [
      "\n"
     ]
    }
   ],
   "source": [
    "for i in range(100,501,100):\n",
    "    eval_mrr(genLTRBertRerank(merge_dev, i))"
   ]
  },
  {
   "cell_type": "code",
   "execution_count": 22,
   "metadata": {},
   "outputs": [
    {
     "name": "stdout",
     "output_type": "stream",
     "text": [
      "<class 'pandas.core.frame.DataFrame'>\n",
      "MultiIndex: 6974598 entries, (2, 55860) to (1102400, 8830447)\n",
      "Data columns (total 4 columns):\n",
      " #   Column     Dtype  \n",
      "---  ------     -----  \n",
      " 0   rank       int64  \n",
      " 1   scorebm25  float64\n",
      " 2   rel        float64\n",
      " 3   scorebert  float64\n",
      "dtypes: float64(3), int64(1)\n",
      "memory usage: 762.3 MB\n"
     ]
    }
   ],
   "source": [
    "merge_dev = bm25_dev.join(bert_dev,how='left',lsuffix='bm25',rsuffix='bert')\n",
    "merge_dev = merge_dev.rename(columns={\"relbm25\": \"rel\"})\n",
    "del merge_dev['relbert']\n",
    "merge_dev.info()"
   ]
  },
  {
   "cell_type": "code",
   "execution_count": 23,
   "metadata": {},
   "outputs": [],
   "source": [
    "def genBM25BertRerank(merge_dev, cutoff=100):\n",
    "    bert_rerank = []\n",
    "    for qid, group in tqdm(merge_dev.groupby('qid')):                                                                                                                                                     \n",
    "        group = group.reset_index()                                                                                                                                                                      \n",
    "        rank = 0\n",
    "        temp = []\n",
    "        for t in group.sort_values('scorebm25', ascending=False, kind='mergesort').itertuples():                                                                                                                                                                                                                                                                                     \n",
    "            rank += 1\n",
    "            if rank <= cutoff:\n",
    "                temp.append((qid, t.pid, t.scorebert, rank, t.rel))\n",
    "            else:\n",
    "                break\n",
    "        bert_rerank.extend(sorted(temp, key=lambda x:x[2], reverse=True))\n",
    "    return pd.DataFrame(bert_rerank, \n",
    "                        columns=['qid','pid','score','rank','rel']\n",
    "                       ).set_index(['qid','pid'])"
   ]
  },
  {
   "cell_type": "code",
   "execution_count": 24,
   "metadata": {},
   "outputs": [
    {
     "name": "stderr",
     "output_type": "stream",
     "text": [
      "100%|██████████| 6980/6980 [00:14<00:00, 483.47it/s]\n",
      "100%|██████████| 6980/6980 [00:12<00:00, 581.20it/s]\n"
     ]
    },
    {
     "name": "stdout",
     "output_type": "stream",
     "text": [
      "score_tie occurs 101 times in 99 queries\n",
      "MRR@10:0.3537466457452131 with 6980 queries\n"
     ]
    },
    {
     "name": "stderr",
     "output_type": "stream",
     "text": [
      "100%|██████████| 6980/6980 [00:15<00:00, 460.39it/s]\n",
      "100%|██████████| 6980/6980 [00:12<00:00, 570.91it/s]\n"
     ]
    },
    {
     "name": "stdout",
     "output_type": "stream",
     "text": [
      "score_tie occurs 101 times in 98 queries\n",
      "MRR@10:0.36375744758266243 with 6980 queries\n"
     ]
    },
    {
     "name": "stderr",
     "output_type": "stream",
     "text": [
      "100%|██████████| 6980/6980 [00:16<00:00, 424.23it/s]\n",
      "100%|██████████| 6980/6980 [00:12<00:00, 578.50it/s]\n"
     ]
    },
    {
     "name": "stdout",
     "output_type": "stream",
     "text": [
      "score_tie occurs 102 times in 99 queries\n",
      "MRR@10:0.36836568199390546 with 6980 queries\n"
     ]
    },
    {
     "name": "stderr",
     "output_type": "stream",
     "text": [
      "100%|██████████| 6980/6980 [00:17<00:00, 400.04it/s]\n",
      "100%|██████████| 6980/6980 [00:12<00:00, 558.31it/s]\n"
     ]
    },
    {
     "name": "stdout",
     "output_type": "stream",
     "text": [
      "score_tie occurs 101 times in 98 queries\n",
      "MRR@10:0.3710188975303589 with 6980 queries\n"
     ]
    },
    {
     "name": "stderr",
     "output_type": "stream",
     "text": [
      "100%|██████████| 6980/6980 [00:18<00:00, 374.41it/s]\n",
      "100%|██████████| 6980/6980 [00:12<00:00, 557.17it/s]\n"
     ]
    },
    {
     "name": "stdout",
     "output_type": "stream",
     "text": [
      "score_tie occurs 108 times in 105 queries\n",
      "MRR@10:0.37218953245099373 with 6980 queries\n"
     ]
    },
    {
     "name": "stderr",
     "output_type": "stream",
     "text": [
      "100%|██████████| 6980/6980 [00:19<00:00, 350.02it/s]\n",
      "100%|██████████| 6980/6980 [00:12<00:00, 553.16it/s]\n"
     ]
    },
    {
     "name": "stdout",
     "output_type": "stream",
     "text": [
      "score_tie occurs 108 times in 105 queries\n",
      "MRR@10:0.3751480420248329 with 6980 queries\n"
     ]
    },
    {
     "name": "stderr",
     "output_type": "stream",
     "text": [
      "100%|██████████| 6980/6980 [00:21<00:00, 328.82it/s]\n",
      "100%|██████████| 6980/6980 [00:12<00:00, 548.16it/s]\n"
     ]
    },
    {
     "name": "stdout",
     "output_type": "stream",
     "text": [
      "score_tie occurs 108 times in 106 queries\n",
      "MRR@10:0.37607569245463224 with 6980 queries\n"
     ]
    },
    {
     "name": "stderr",
     "output_type": "stream",
     "text": [
      "100%|██████████| 6980/6980 [00:22<00:00, 312.15it/s]\n",
      "100%|██████████| 6980/6980 [00:12<00:00, 544.55it/s]\n"
     ]
    },
    {
     "name": "stdout",
     "output_type": "stream",
     "text": [
      "score_tie occurs 107 times in 105 queries\n",
      "MRR@10:0.37704177468504113 with 6980 queries\n"
     ]
    },
    {
     "name": "stderr",
     "output_type": "stream",
     "text": [
      "100%|██████████| 6980/6980 [00:23<00:00, 297.79it/s]\n",
      "100%|██████████| 6980/6980 [00:12<00:00, 542.17it/s]\n"
     ]
    },
    {
     "name": "stdout",
     "output_type": "stream",
     "text": [
      "score_tie occurs 107 times in 105 queries\n",
      "MRR@10:0.37852566289170875 with 6980 queries\n"
     ]
    },
    {
     "name": "stderr",
     "output_type": "stream",
     "text": [
      "100%|██████████| 6980/6980 [00:24<00:00, 282.88it/s]\n",
      "100%|██████████| 6980/6980 [00:13<00:00, 532.18it/s]"
     ]
    },
    {
     "name": "stdout",
     "output_type": "stream",
     "text": [
      "score_tie occurs 106 times in 103 queries\n",
      "MRR@10:0.3792195956701687 with 6980 queries\n"
     ]
    },
    {
     "name": "stderr",
     "output_type": "stream",
     "text": [
      "\n"
     ]
    }
   ],
   "source": [
    "for i in range(100,1001,100):\n",
    "    eval_mrr(genBM25BertRerank(merge_dev, i))"
   ]
  },
  {
   "cell_type": "code",
   "execution_count": null,
   "metadata": {},
   "outputs": [],
   "source": []
  }
 ],
 "metadata": {
  "kernelspec": {
   "display_name": "Python 3",
   "language": "python",
   "name": "python3"
  },
  "language_info": {
   "codemirror_mode": {
    "name": "ipython",
    "version": 3
   },
   "file_extension": ".py",
   "mimetype": "text/x-python",
   "name": "python",
   "nbconvert_exporter": "python",
   "pygments_lexer": "ipython3",
   "version": "3.8.3"
  }
 },
 "nbformat": 4,
 "nbformat_minor": 4
}
