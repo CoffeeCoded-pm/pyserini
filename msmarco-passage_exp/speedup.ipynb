{
 "cells": [
  {
   "cell_type": "code",
   "execution_count": 1,
   "metadata": {
    "ExecuteTime": {
     "end_time": "2021-02-25T15:33:29.196754Z",
     "start_time": "2021-02-25T15:33:16.288762Z"
    }
   },
   "outputs": [
    {
     "name": "stdout",
     "output_type": "stream",
     "text": [
      "<class 'pandas.core.frame.DataFrame'>\n",
      "MultiIndex: 6974598 entries, (2, 55860) to (1102400, 8830447)\n",
      "Data columns (total 3 columns):\n",
      " #   Column  Dtype  \n",
      "---  ------  -----  \n",
      " 0   rank    int64  \n",
      " 1   score   float64\n",
      " 2   rel     float64\n",
      "dtypes: float64(2), int64(1)\n",
      "memory usage: 389.1 MB\n"
     ]
    }
   ],
   "source": [
    "import pandas as pd\n",
    "import numpy as np\n",
    "base = pd.read_csv('/data/zhangyue/pygaggle/data/msmarco_ans_entire/run.bm25.dev.small.tsv', sep=\"\\t\", \n",
    "                  names=['qid','pid','rank'],\n",
    "                  usecols=['qid', 'pid','rank'])\n",
    "base['score'] = 1/base['rank']\n",
    "\n",
    "dev_qrel = pd.read_csv('../collections/msmarco-passage/qrels.dev.small.tsv', sep=\"\\t\",\n",
    "                       names=[\"qid\", \"q0\", \"pid\", \"rel\"], \n",
    "                       usecols=['qid', 'pid', 'rel'])\n",
    "\n",
    "base = base.merge(dev_qrel, left_on=['qid', 'pid'], right_on=['qid', 'pid'], how='left')                                                                                                           \n",
    "base['rel'] = base['rel'].fillna(0)                                                                                                                                             \n",
    "base = base.sort_values(['qid','pid']).set_index(['qid','pid'])\n",
    "base.info()"
   ]
  },
  {
   "cell_type": "code",
   "execution_count": 2,
   "metadata": {
    "ExecuteTime": {
     "end_time": "2021-02-25T15:33:42.174468Z",
     "start_time": "2021-02-25T15:33:29.201712Z"
    }
   },
   "outputs": [
    {
     "name": "stdout",
     "output_type": "stream",
     "text": [
      "<class 'pandas.core.frame.DataFrame'>\n",
      "MultiIndex: 6974598 entries, (2, 55860) to (1102400, 8830447)\n",
      "Data columns (total 3 columns):\n",
      " #   Column  Dtype  \n",
      "---  ------  -----  \n",
      " 0   rank    int64  \n",
      " 1   score   float64\n",
      " 2   rel     float64\n",
      "dtypes: float64(2), int64(1)\n",
      "memory usage: 389.1 MB\n"
     ]
    }
   ],
   "source": [
    "import pandas as pd\n",
    "import numpy as np\n",
    "rerank = pd.read_csv('run.monobert.ans_entire.dev.trec', sep=\"\\t\", \n",
    "                  names=['qid','q0','pid','rank','score','tag'],\n",
    "                  usecols=['qid', 'pid','rank'])\n",
    "rerank['score'] = 1/rerank['rank']\n",
    "\n",
    "dev_qrel = pd.read_csv('../collections/msmarco-passage/qrels.dev.small.tsv', sep=\"\\t\", \n",
    "                       names=[\"qid\", \"q0\", \"pid\", \"rel\"], \n",
    "                       usecols=['qid', 'pid', 'rel'])                                                                                      \n",
    "rerank = rerank.merge(dev_qrel, left_on=['qid', 'pid'], right_on=['qid', 'pid'], how='left')                                                                                                           \n",
    "rerank['rel'] = rerank['rel'].fillna(0)                                                                                                                                            \n",
    "rerank = rerank.sort_values(['qid','pid']).set_index(['qid','pid'])\n",
    "rerank.info()"
   ]
  },
  {
   "cell_type": "code",
   "execution_count": 3,
   "metadata": {
    "ExecuteTime": {
     "end_time": "2021-02-25T15:33:42.248987Z",
     "start_time": "2021-02-25T15:33:42.176481Z"
    }
   },
   "outputs": [],
   "source": [
    "from tqdm import tqdm\n",
    "def eval_mrr(dev_data):                                                                                                                                                                                  \n",
    "    score_tie_counter = 0                                                                                                                                                                                \n",
    "    score_tie_query = set()                                                                                                                                                                              \n",
    "    MRR = []                                                                                                                                                                                             \n",
    "    for qid, group in tqdm(dev_data.groupby('qid')):                                                                                                                                                     \n",
    "        group = group.reset_index()                                                                                                                                                                      \n",
    "        rank = 0                                                                                                                                                                                         \n",
    "        prev_score = None                                                                                                                                                                                \n",
    "        assert len(group['pid'].tolist()) == len(set(group['pid'].tolist()))                                                                                                                             \n",
    "        # stable sort is also used in LightGBM                                                                                                                                                           \n",
    "                                                                                                                                                                                                         \n",
    "        for t in group.sort_values('score', ascending=False, kind='mergesort').itertuples():                                                                                                             \n",
    "            if prev_score is not None and abs(t.score - prev_score) < 1e-8:                                                                                                                              \n",
    "                score_tie_counter += 1                                                                                                                                                                   \n",
    "                score_tie_query.add(qid)                                                                                                                                                                 \n",
    "            prev_score = t.score                                                                                                                                                                         \n",
    "            prev_pid = t.pid                                                                                                                                                                             \n",
    "            rank += 1                                                                                                                                                                                    \n",
    "            if t.rel>0:                                                                                                                                                                                  \n",
    "                MRR.append(1.0/rank)                                                                                                                                                                     \n",
    "                break                                                                                                                                                                                    \n",
    "            elif rank == 10 or rank == len(group):\n",
    "                MRR.append(0.)\n",
    "                break\n",
    "\n",
    "    score_tie = f'score_tie occurs {score_tie_counter} times in {len(score_tie_query)} queries'\n",
    "    mrr_10 = np.mean(MRR).item()\n",
    "    return {'score_tie': score_tie, 'mrr_10': mrr_10}"
   ]
  },
  {
   "cell_type": "code",
   "execution_count": 4,
   "metadata": {
    "ExecuteTime": {
     "end_time": "2021-02-25T15:33:56.416199Z",
     "start_time": "2021-02-25T15:33:42.252425Z"
    }
   },
   "outputs": [
    {
     "name": "stderr",
     "output_type": "stream",
     "text": [
      "100%|██████████| 6980/6980 [00:13<00:00, 511.99it/s]\n"
     ]
    },
    {
     "data": {
      "text/plain": [
       "{'score_tie': 'score_tie occurs 0 times in 0 queries',\n",
       " 'mrr_10': 0.1873645222176741}"
      ]
     },
     "execution_count": 4,
     "metadata": {},
     "output_type": "execute_result"
    }
   ],
   "source": [
    "eval_mrr(base)"
   ]
  },
  {
   "cell_type": "code",
   "execution_count": 5,
   "metadata": {
    "ExecuteTime": {
     "end_time": "2021-02-25T15:34:10.560480Z",
     "start_time": "2021-02-25T15:33:56.417813Z"
    }
   },
   "outputs": [
    {
     "name": "stderr",
     "output_type": "stream",
     "text": [
      "100%|██████████| 6980/6980 [00:13<00:00, 511.47it/s]\n"
     ]
    },
    {
     "data": {
      "text/plain": [
       "{'score_tie': 'score_tie occurs 0 times in 0 queries',\n",
       " 'mrr_10': 0.3792195956701687}"
      ]
     },
     "execution_count": 5,
     "metadata": {},
     "output_type": "execute_result"
    }
   ],
   "source": [
    "eval_mrr(rerank)"
   ]
  },
  {
   "cell_type": "code",
   "execution_count": 6,
   "metadata": {
    "ExecuteTime": {
     "end_time": "2021-02-25T15:34:13.491353Z",
     "start_time": "2021-02-25T15:34:10.562143Z"
    }
   },
   "outputs": [
    {
     "name": "stdout",
     "output_type": "stream",
     "text": [
      "<class 'pandas.core.frame.DataFrame'>\n",
      "MultiIndex: 6974598 entries, (2, 55860) to (1102400, 8830447)\n",
      "Data columns (total 5 columns):\n",
      " #   Column       Dtype  \n",
      "---  ------       -----  \n",
      " 0   rankbase     int64  \n",
      " 1   scorebase    float64\n",
      " 2   rel          float64\n",
      " 3   rankrerank   int64  \n",
      " 4   scorererank  float64\n",
      "dtypes: float64(3), int64(2)\n",
      "memory usage: 815.5 MB\n"
     ]
    }
   ],
   "source": [
    "merge = base.join(rerank,how='left',lsuffix='base',rsuffix='rerank')\n",
    "merge = merge.rename(columns={\"relbase\": \"rel\"})\n",
    "del merge['relrerank']\n",
    "merge.info()"
   ]
  },
  {
   "cell_type": "code",
   "execution_count": 7,
   "metadata": {
    "ExecuteTime": {
     "end_time": "2021-02-25T15:34:13.542397Z",
     "start_time": "2021-02-25T15:34:13.493825Z"
    }
   },
   "outputs": [
    {
     "data": {
      "text/plain": [
       "rankbase       False\n",
       "scorebase      False\n",
       "rel            False\n",
       "rankrerank     False\n",
       "scorererank    False\n",
       "dtype: bool"
      ]
     },
     "execution_count": 7,
     "metadata": {},
     "output_type": "execute_result"
    }
   ],
   "source": [
    "merge.isna().any()"
   ]
  },
  {
   "cell_type": "code",
   "execution_count": 8,
   "metadata": {
    "ExecuteTime": {
     "end_time": "2021-02-25T15:34:13.548736Z",
     "start_time": "2021-02-25T15:34:13.543989Z"
    }
   },
   "outputs": [],
   "source": [
    "def genNewRerank(merge, cutoff=100):\n",
    "    new_rerank = []\n",
    "    for qid, group in tqdm(merge.groupby('qid')):                                                                                                                                                     \n",
    "        group = group.reset_index()                                                                                                                                                                      \n",
    "        rank = 0\n",
    "        temp = []\n",
    "        for t in group.sort_values('scorebase', ascending=False, kind='mergesort').itertuples():                                                                                                                                                                                                                                                                                     \n",
    "            rank += 1\n",
    "            if rank <= cutoff:\n",
    "                temp.append((qid, t.pid, t.scorererank, rank, t.rel))\n",
    "            else:\n",
    "                break\n",
    "        new_rerank.extend(sorted(temp, key=lambda x:x[2], reverse=True))\n",
    "    return pd.DataFrame(new_rerank, \n",
    "                        columns=['qid','pid','score','rank','rel']\n",
    "                       ).set_index(['qid','pid'])"
   ]
  },
  {
   "cell_type": "code",
   "execution_count": 9,
   "metadata": {
    "ExecuteTime": {
     "end_time": "2021-02-25T16:05:17.423306Z",
     "start_time": "2021-02-25T15:34:13.550108Z"
    }
   },
   "outputs": [
    {
     "name": "stderr",
     "output_type": "stream",
     "text": [
      "[Parallel(n_jobs=20)]: Using backend LokyBackend with 20 concurrent workers.\n",
      "[Parallel(n_jobs=20)]: Done   1 tasks      | elapsed:  7.6min\n",
      "[Parallel(n_jobs=20)]: Done  10 tasks      | elapsed:  8.9min\n",
      "[Parallel(n_jobs=20)]: Done  21 tasks      | elapsed: 12.1min\n",
      "[Parallel(n_jobs=20)]: Done  45 tasks      | elapsed: 16.9min\n",
      "[Parallel(n_jobs=20)]: Done  58 tasks      | elapsed: 20.9min\n",
      "[Parallel(n_jobs=20)]: Done  72 out of 100 | elapsed: 25.9min remaining: 10.1min\n",
      "[Parallel(n_jobs=20)]: Done  83 out of 100 | elapsed: 27.6min remaining:  5.6min\n",
      "[Parallel(n_jobs=20)]: Done  94 out of 100 | elapsed: 30.2min remaining:  1.9min\n",
      "[Parallel(n_jobs=20)]: Done 100 out of 100 | elapsed: 31.1min finished\n"
     ]
    }
   ],
   "source": [
    "def task(df, i):\n",
    "    return eval_mrr(genNewRerank(merge, i))\n",
    "\n",
    "from joblib import Parallel, delayed\n",
    "task_res = Parallel(n_jobs=20,verbose=10)(delayed(task)(merge, i) for i in list(range(10,1001,10)))\n",
    "bm25_bert = {}\n",
    "for i,res in zip(range(10,1001,10),task_res):\n",
    "    bm25_bert[i] = res"
   ]
  },
  {
   "cell_type": "code",
   "execution_count": 10,
   "metadata": {
    "ExecuteTime": {
     "end_time": "2021-02-25T16:06:23.073063Z",
     "start_time": "2021-02-25T16:05:46.812649Z"
    }
   },
   "outputs": [
    {
     "name": "stdout",
     "output_type": "stream",
     "text": [
      "<class 'pandas.core.frame.DataFrame'>\n",
      "MultiIndex: 6974598 entries, (2, 29510) to (1102400, 8841784)\n",
      "Data columns (total 3 columns):\n",
      " #   Column  Dtype  \n",
      "---  ------  -----  \n",
      " 0   rank    int64  \n",
      " 1   score   float64\n",
      " 2   rel     float64\n",
      "dtypes: float64(2), int64(1)\n",
      "memory usage: 392.1 MB\n"
     ]
    }
   ],
   "source": [
    "import pandas as pd\n",
    "import numpy as np\n",
    "base = pd.read_csv('run.10000.ltr.dev.tsv', sep=\"\\t\", \n",
    "                  names=['qid','q0','pid','rank','score','tag'],\n",
    "                  usecols=['qid', 'pid','rank'])\n",
    "base = base[base['rank']<=1000]\n",
    "base['score'] = 1/base['rank']\n",
    "\n",
    "dev_qrel = pd.read_csv('../collections/msmarco-passage/qrels.dev.small.tsv', sep=\"\\t\",\n",
    "                       names=[\"qid\", \"q0\", \"pid\", \"rel\"], \n",
    "                       usecols=['qid', 'pid', 'rel'])\n",
    "\n",
    "base = base.merge(dev_qrel, left_on=['qid', 'pid'], right_on=['qid', 'pid'], how='left')                                                                                                           \n",
    "base['rel'] = base['rel'].fillna(0)                                                                                                                                             \n",
    "base = base.sort_values(['qid','pid']).set_index(['qid','pid'])\n",
    "base.info()"
   ]
  },
  {
   "cell_type": "code",
   "execution_count": 11,
   "metadata": {
    "ExecuteTime": {
     "end_time": "2021-02-25T16:06:35.344029Z",
     "start_time": "2021-02-25T16:06:23.078295Z"
    }
   },
   "outputs": [
    {
     "name": "stdout",
     "output_type": "stream",
     "text": [
      "<class 'pandas.core.frame.DataFrame'>\n",
      "MultiIndex: 6974598 entries, (2, 29510) to (1102400, 8841784)\n",
      "Data columns (total 3 columns):\n",
      " #   Column  Dtype  \n",
      "---  ------  -----  \n",
      " 0   rank    int64  \n",
      " 1   score   float64\n",
      " 2   rel     float64\n",
      "dtypes: float64(2), int64(1)\n",
      "memory usage: 392.1 MB\n"
     ]
    }
   ],
   "source": [
    "import pandas as pd\n",
    "import numpy as np\n",
    "rerank = pd.read_csv('run.bm25.ltr.bert.1000.tsv', sep=\"\\t\", \n",
    "                  names=['qid','pid','rank'],\n",
    "                  usecols=['qid', 'pid','rank'])\n",
    "rerank['score'] = 1/rerank['rank']\n",
    "\n",
    "dev_qrel = pd.read_csv('../collections/msmarco-passage/qrels.dev.small.tsv', sep=\"\\t\", \n",
    "                       names=[\"qid\", \"q0\", \"pid\", \"rel\"], \n",
    "                       usecols=['qid', 'pid', 'rel'])                                                                                      \n",
    "rerank = rerank.merge(dev_qrel, left_on=['qid', 'pid'], right_on=['qid', 'pid'], how='left')                                                                                                           \n",
    "rerank['rel'] = rerank['rel'].fillna(0)                                                                                                                                            \n",
    "rerank = rerank.sort_values(['qid','pid']).set_index(['qid','pid'])\n",
    "rerank.info()"
   ]
  },
  {
   "cell_type": "code",
   "execution_count": 12,
   "metadata": {
    "ExecuteTime": {
     "end_time": "2021-02-25T16:06:49.445083Z",
     "start_time": "2021-02-25T16:06:35.346437Z"
    }
   },
   "outputs": [
    {
     "name": "stderr",
     "output_type": "stream",
     "text": [
      "100%|██████████| 6980/6980 [00:13<00:00, 514.83it/s]\n"
     ]
    },
    {
     "data": {
      "text/plain": [
       "{'score_tie': 'score_tie occurs 0 times in 0 queries',\n",
       " 'mrr_10': 0.2520736116796289}"
      ]
     },
     "execution_count": 12,
     "metadata": {},
     "output_type": "execute_result"
    }
   ],
   "source": [
    "eval_mrr(base)"
   ]
  },
  {
   "cell_type": "code",
   "execution_count": 13,
   "metadata": {
    "ExecuteTime": {
     "end_time": "2021-02-25T16:07:03.447644Z",
     "start_time": "2021-02-25T16:06:49.447240Z"
    }
   },
   "outputs": [
    {
     "name": "stderr",
     "output_type": "stream",
     "text": [
      "100%|██████████| 6980/6980 [00:13<00:00, 516.02it/s]\n"
     ]
    },
    {
     "data": {
      "text/plain": [
       "{'score_tie': 'score_tie occurs 0 times in 0 queries',\n",
       " 'mrr_10': 0.38722119889025336}"
      ]
     },
     "execution_count": 13,
     "metadata": {},
     "output_type": "execute_result"
    }
   ],
   "source": [
    "eval_mrr(rerank)"
   ]
  },
  {
   "cell_type": "code",
   "execution_count": 14,
   "metadata": {
    "ExecuteTime": {
     "end_time": "2021-02-25T16:07:06.244947Z",
     "start_time": "2021-02-25T16:07:03.449312Z"
    }
   },
   "outputs": [
    {
     "name": "stdout",
     "output_type": "stream",
     "text": [
      "<class 'pandas.core.frame.DataFrame'>\n",
      "MultiIndex: 6974598 entries, (2, 29510) to (1102400, 8841784)\n",
      "Data columns (total 5 columns):\n",
      " #   Column       Dtype  \n",
      "---  ------       -----  \n",
      " 0   rankbase     int64  \n",
      " 1   scorebase    float64\n",
      " 2   rel          float64\n",
      " 3   rankrerank   int64  \n",
      " 4   scorererank  float64\n",
      "dtypes: float64(3), int64(2)\n",
      "memory usage: 818.5 MB\n"
     ]
    }
   ],
   "source": [
    "merge = base.join(rerank,how='left',lsuffix='base',rsuffix='rerank')\n",
    "merge = merge.rename(columns={\"relbase\": \"rel\"})\n",
    "del merge['relrerank']\n",
    "merge.info()"
   ]
  },
  {
   "cell_type": "code",
   "execution_count": 15,
   "metadata": {
    "ExecuteTime": {
     "end_time": "2021-02-25T16:07:06.294268Z",
     "start_time": "2021-02-25T16:07:06.246354Z"
    }
   },
   "outputs": [
    {
     "data": {
      "text/plain": [
       "rankbase       False\n",
       "scorebase      False\n",
       "rel            False\n",
       "rankrerank     False\n",
       "scorererank    False\n",
       "dtype: bool"
      ]
     },
     "execution_count": 15,
     "metadata": {},
     "output_type": "execute_result"
    }
   ],
   "source": [
    "merge.isna().any()"
   ]
  },
  {
   "cell_type": "code",
   "execution_count": 16,
   "metadata": {
    "ExecuteTime": {
     "end_time": "2021-02-25T16:16:22.275334Z",
     "start_time": "2021-02-25T16:07:06.296198Z"
    }
   },
   "outputs": [
    {
     "name": "stderr",
     "output_type": "stream",
     "text": [
      "100%|██████████| 6980/6980 [00:13<00:00, 500.27it/s]\n",
      "100%|██████████| 6980/6980 [00:12<00:00, 569.37it/s]\n",
      "100%|██████████| 6980/6980 [00:13<00:00, 506.63it/s]\n",
      "100%|██████████| 6980/6980 [00:12<00:00, 576.46it/s]\n",
      "100%|██████████| 6980/6980 [00:13<00:00, 502.08it/s]\n",
      "100%|██████████| 6980/6980 [00:12<00:00, 572.60it/s]\n",
      "100%|██████████| 6980/6980 [00:13<00:00, 498.67it/s]\n",
      "100%|██████████| 6980/6980 [00:12<00:00, 575.97it/s]\n",
      "100%|██████████| 6980/6980 [00:13<00:00, 500.45it/s]\n",
      "100%|██████████| 6980/6980 [00:12<00:00, 570.33it/s]\n",
      "100%|██████████| 6980/6980 [00:14<00:00, 493.96it/s]\n",
      "100%|██████████| 6980/6980 [00:12<00:00, 575.54it/s]\n",
      "100%|██████████| 6980/6980 [00:14<00:00, 491.34it/s]\n",
      "100%|██████████| 6980/6980 [00:12<00:00, 576.55it/s]\n",
      "100%|██████████| 6980/6980 [00:14<00:00, 490.21it/s]\n",
      "100%|██████████| 6980/6980 [00:12<00:00, 572.14it/s]\n",
      "100%|██████████| 6980/6980 [00:14<00:00, 487.86it/s]\n",
      "100%|██████████| 6980/6980 [00:12<00:00, 574.26it/s]\n",
      "100%|██████████| 6980/6980 [00:14<00:00, 484.95it/s]\n",
      "100%|██████████| 6980/6980 [00:12<00:00, 569.29it/s]\n",
      "100%|██████████| 6980/6980 [00:14<00:00, 483.67it/s]\n",
      "100%|██████████| 6980/6980 [00:12<00:00, 566.14it/s]\n",
      "100%|██████████| 6980/6980 [00:14<00:00, 482.55it/s]\n",
      "100%|██████████| 6980/6980 [00:12<00:00, 574.35it/s]\n",
      "100%|██████████| 6980/6980 [00:14<00:00, 477.50it/s]\n",
      "100%|██████████| 6980/6980 [00:12<00:00, 567.99it/s]\n",
      "100%|██████████| 6980/6980 [00:15<00:00, 464.66it/s]\n",
      "100%|██████████| 6980/6980 [00:12<00:00, 561.85it/s]\n",
      "100%|██████████| 6980/6980 [00:14<00:00, 469.36it/s]\n",
      "100%|██████████| 6980/6980 [00:12<00:00, 572.32it/s]\n",
      "100%|██████████| 6980/6980 [00:14<00:00, 478.03it/s]\n",
      "100%|██████████| 6980/6980 [00:12<00:00, 570.49it/s]\n",
      "100%|██████████| 6980/6980 [00:14<00:00, 473.89it/s]\n",
      "100%|██████████| 6980/6980 [00:12<00:00, 571.48it/s]\n",
      "100%|██████████| 6980/6980 [00:14<00:00, 472.19it/s]\n",
      "100%|██████████| 6980/6980 [00:12<00:00, 569.56it/s]\n",
      "100%|██████████| 6980/6980 [00:14<00:00, 472.26it/s]\n",
      "100%|██████████| 6980/6980 [00:12<00:00, 565.81it/s]\n",
      "100%|██████████| 6980/6980 [00:14<00:00, 466.33it/s]\n",
      "100%|██████████| 6980/6980 [00:12<00:00, 566.20it/s]\n"
     ]
    }
   ],
   "source": [
    "bm25_ltr_bert = {}\n",
    "for i in list(range(5,101,5)):\n",
    "    bm25_ltr_bert[i] = eval_mrr(genNewRerank(merge, i))"
   ]
  },
  {
   "cell_type": "code",
   "execution_count": 17,
   "metadata": {
    "ExecuteTime": {
     "end_time": "2021-02-25T16:16:22.285886Z",
     "start_time": "2021-02-25T16:16:22.278362Z"
    }
   },
   "outputs": [
    {
     "data": {
      "text/plain": [
       "{5: 10,\n",
       " 10: 30,\n",
       " 15: 60,\n",
       " 20: 120,\n",
       " 25: 180,\n",
       " 30: 240,\n",
       " 35: 320,\n",
       " 40: 350,\n",
       " 45: 440,\n",
       " 50: 560,\n",
       " 55: 580,\n",
       " 60: 620,\n",
       " 65: 780,\n",
       " 70: 830,\n",
       " 75: 970,\n",
       " 80: 1000,\n",
       " 85: 1000,\n",
       " 90: 1000,\n",
       " 95: 1000,\n",
       " 100: 1000}"
      ]
     },
     "execution_count": 17,
     "metadata": {},
     "output_type": "execute_result"
    }
   ],
   "source": [
    "bm25_bert_N_MRR = [(k,v['mrr_10']) for k,v in bm25_bert.items()]\n",
    "bm25_ltr_bert_N_MRR = [(k,v['mrr_10']) for k,v in bm25_ltr_bert.items()]\n",
    "speedup = {k:-1 for k,v in bm25_ltr_bert_N_MRR}\n",
    "for new, achieve in bm25_ltr_bert_N_MRR:\n",
    "    for old,target in bm25_bert_N_MRR:\n",
    "        if achieve>=target:\n",
    "            speedup[new] = max(speedup[new], old)\n",
    "speedup"
   ]
  },
  {
   "cell_type": "code",
   "execution_count": 20,
   "metadata": {
    "ExecuteTime": {
     "end_time": "2021-02-25T16:17:58.488032Z",
     "start_time": "2021-02-25T16:17:58.455805Z"
    }
   },
   "outputs": [
    {
     "name": "stdout",
     "output_type": "stream",
     "text": [
      "5 10 0.29171203438395416 0.27583179833537996 0.411163335 0.13399666999999998 0.32589644696796705\n",
      "10 30 0.3308532883067267 0.32661839950880067 0.45899667 0.32533001 0.7087851203800672\n",
      "15 60 0.3468207349797608 0.34432693182335017 0.506830005 0.6123300199999999 1.208156608644352\n",
      "20 120 0.35668031109291853 0.3559470368854323 0.5546633400000001 1.1863300399999999 2.1388290057172332\n",
      "25 180 0.3625274594078319 0.36245684950197843 0.602496675 1.7603300599999998 2.9217257672002916\n",
      "30 240 0.36692693409742116 0.3664743371082913 0.65033001 2.33433008 3.589454652415625\n",
      "35 320 0.3690809910401601 0.3688184495383636 0.698163345 3.09966344 4.4397395855836574\n",
      "40 350 0.36968526856779005 0.36968253968253967 0.74599668 3.38666345 4.539783541664019\n",
      "45 440 0.3718483080911448 0.37163181652794836 0.7938300149999999 4.247663479999999 5.350847662266839\n",
      "50 560 0.3733382225860736 0.3732645426843134 0.8416633499999999 5.3956635199999985 6.410714592716909\n",
      "55 580 0.3746663937781416 0.3742391526811297 0.8894966849999999 5.586996859999998 6.28107665179213\n",
      "60 620 0.3754132555601037 0.37512336835402743 0.9373300199999999 5.969663539999999 6.368795848446207\n",
      "65 780 0.3769047050529859 0.3768637149224542 0.9851633549999999 7.500330259999998 7.613285879883342\n",
      "70 830 0.37754622049392816 0.3773554259335062 1.0329966899999998 7.978663609999999 7.7238036551695055\n",
      "75 970 0.3785921794696866 0.3785899622504207 1.080830025 9.31799699 8.621149278305808\n",
      "80 1000 0.3798167098740165 0.3792195956701687 1.12866336 9.604997 8.510063620741617\n",
      "85 1000 0.37985389093555283 0.3792195956701687 1.176496695 9.604997 8.164066283246125\n",
      "90 1000 0.3806039932687497 0.3792195956701687 1.22433003 9.604997 7.845104477262556\n",
      "95 1000 0.38048653749943145 0.3792195956701687 1.272163365 9.604997 7.550128595316058\n",
      "100 1000 0.38136694410333377 0.3792195956701687 1.3199967 9.604997 7.276531070115554\n"
     ]
    }
   ],
   "source": [
    "for new, old in speedup.items():\n",
    "    new_time = new*0.009566667+0.02333+0.34\n",
    "    new_mrr = bm25_ltr_bert[new]['mrr_10']\n",
    "    old_time = old*0.009566667+0.02333+0.015\n",
    "    old_mrr = bm25_bert[old]['mrr_10']\n",
    "    print(new, old, new_mrr, old_mrr, new_time, old_time, old_time/new_time)"
   ]
  },
  {
   "cell_type": "code",
   "execution_count": 21,
   "metadata": {
    "ExecuteTime": {
     "end_time": "2021-02-25T16:21:52.961420Z",
     "start_time": "2021-02-25T16:21:52.953258Z"
    }
   },
   "outputs": [],
   "source": [
    "mrr_data = {}\n",
    "speedup_data = {}\n",
    "for new, old in speedup.items():\n",
    "    new_time = new*0.009566667+0.02333+0.34\n",
    "    new_mrr = bm25_ltr_bert[new]['mrr_10']\n",
    "    old_time = old*0.009566667+0.02333+0.015\n",
    "    old_mrr = bm25_bert[old]['mrr_10']\n",
    "    mrr_data[new] = new_mrr\n",
    "    speedup_data[new] = old_time/new_time"
   ]
  },
  {
   "cell_type": "code",
   "execution_count": 23,
   "metadata": {
    "ExecuteTime": {
     "end_time": "2021-02-28T18:46:38.779471Z",
     "start_time": "2021-02-28T18:46:38.563904Z"
    }
   },
   "outputs": [
    {
     "data": {
      "image/png": "[encoded data removed]",
      "text/plain": [
       "<Figure size 432x288 with 2 Axes>"
      ]
     },
     "metadata": {
      "needs_background": "light"
     },
     "output_type": "display_data"
    }
   ],
   "source": [
    "import matplotlib.pyplot as plt\n",
    "\n",
    "fig,ax = plt.subplots()\n",
    "\n",
    "# make a plot\n",
    "ax.plot(mrr_data.keys(), mrr_data.values(), color=\"red\", marker=\"o\",label = 'BoW+LTR+BERT MRR@10')\n",
    "# set x-axis label\n",
    "plt.legend(loc='best', bbox_to_anchor=(0.5, 0., 0.5, 0.5))\n",
    "ax.set_xlabel(\"N\",fontsize=14)\n",
    "# set y-axis label\n",
    "ax.set_ylabel(\"Mrr@10\",color=\"red\",fontsize=14)\n",
    "ax2=ax.twinx()\n",
    "# make a plot with different y-axis using second axis object\n",
    "ax2.plot(speedup_data.keys(), speedup_data.values(),color=\"blue\",marker=\"^\",label = 'BoW+LTR+BERT SpeedUp')\n",
    "ax2.set_ylabel(\"SpeedUp\",color=\"blue\",fontsize=14)\n",
    "# my_xticks = ['100','200','300','400','500','600','700','800','900','1000']\n",
    "# x = [0,1,2,3,4,5,6,7,8,9]\n",
    "# plt.xticks(x, my_xticks)\n",
    "# plt.hlines(0.86289,0,11, color='g', label = 'bm25+BERT/T5')\n",
    "plt.legend(loc='right')\n",
    "plt.show()"
   ]
  },
  {
   "cell_type": "code",
   "execution_count": null,
   "metadata": {},
   "outputs": [],
   "source": []
  }
 ],
 "metadata": {
  "kernelspec": {
   "display_name": "Python 3",
   "language": "python",
   "name": "python3"
  },
  "language_info": {
   "codemirror_mode": {
    "name": "ipython",
    "version": 3
   },
   "file_extension": ".py",
   "mimetype": "text/x-python",
   "name": "python",
   "nbconvert_exporter": "python",
   "pygments_lexer": "ipython3",
   "version": "3.8.2"
  }
 },
 "nbformat": 4,
 "nbformat_minor": 4
}
