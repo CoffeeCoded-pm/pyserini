{
 "cells": [
  {
   "cell_type": "markdown",
   "metadata": {},
   "source": [
    "### Data Prep"
   ]
  },
  {
   "cell_type": "code",
   "execution_count": null,
   "metadata": {},
   "outputs": [],
   "source": [
    "# data munging to get the queries into the right format (from json to tsv).\n",
    "import json\n",
    "\n",
    "with open('collections/nfcorpus/queries.tsv', 'w') as out:\n",
    "    with open('collections/nfcorpus/queries.jsonl', 'r') as f:\n",
    "        for line in f:\n",
    "            l = json.loads(line)\n",
    "            out.write(l['_id'] + '\\t' + l['text'] + '\\n')"
   ]
  },
  {
   "cell_type": "markdown",
   "metadata": {},
   "source": [
    "### Interactive Retrieval"
   ]
  },
  {
   "cell_type": "code",
   "execution_count": 1,
   "metadata": {},
   "outputs": [
    {
     "name": "stderr",
     "output_type": "stream",
     "text": [
      "/home/hosna/.local/lib/python3.10/site-packages/tqdm/auto.py:21: TqdmWarning: IProgress not found. Please update jupyter and ipywidgets. See https://ipywidgets.readthedocs.io/en/stable/user_install.html\n",
      "  from .autonotebook import tqdm as notebook_tqdm\n"
     ]
    },
    {
     "name": "stdout",
     "output_type": "stream",
     "text": [
      " 1 MED-4555 0.791378\n",
      " 2 MED-4560 0.710724\n",
      " 3 MED-4421 0.688937\n",
      " 4 MED-4993 0.686237\n",
      " 5 MED-4424 0.686213\n",
      " 6 MED-1663 0.682198\n",
      " 7 MED-3436 0.680584\n",
      " 8 MED-2750 0.677032\n",
      " 9 MED-4324 0.675771\n",
      "10 MED-2939 0.674646\n"
     ]
    }
   ],
   "source": [
    "from pyserini.search.faiss import FaissSearcher, AutoQueryEncoder\n",
    "\n",
    "encoder = AutoQueryEncoder('BAAI/bge-base-en-v1.5', device='cpu', pooling='mean', l2_norm=True)\n",
    "searcher = FaissSearcher('indexes/nfcorpus.bge-base-en-v1.5', encoder)\n",
    "hits = searcher.search('How to Help Prevent Abdominal Aortic Aneurysms')\n",
    "\n",
    "for i in range(0, 10):\n",
    "    print(f'{i+1:2} {hits[i].docid:7} {hits[i].score:.6f}')"
   ]
  }
 ],
 "metadata": {
  "kernelspec": {
   "display_name": "Python 3",
   "language": "python",
   "name": "python3"
  },
  "language_info": {
   "codemirror_mode": {
    "name": "ipython",
    "version": 3
   },
   "file_extension": ".py",
   "mimetype": "text/x-python",
   "name": "python",
   "nbconvert_exporter": "python",
   "pygments_lexer": "ipython3",
   "version": "3.10.12"
  }
 },
 "nbformat": 4,
 "nbformat_minor": 2
}
