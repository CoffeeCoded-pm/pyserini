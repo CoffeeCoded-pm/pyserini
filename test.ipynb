{
 "cells": [
  {
   "cell_type": "code",
   "execution_count": null,
   "metadata": {},
   "outputs": [],
   "source": [
    "from pyserini.ltr import FeatureExtractor, AvgICTF, AvgIDF, BM25, DocSize, MatchingTermCount, \\\n",
    "    PMI, QueryLength, SCQ, SCS, SumMatchingTF, TFIDF, UniqueTermCount, \\\n",
    "    UnorderedSequentialPairs, OrderedSequentialPairs\n",
    "from pyserini.analysis import Analyzer, get_lucene_analyzer\n",
    "from pyserini.search import get_topics_with_reader\n",
    "fe = FeatureExtractor('indexes/msmarco-passage/lucene-index-msmarco/', 20)\n",
    "fe.add(AvgICTF())\n",
    "fe.add(AvgIDF())\n",
    "fe.add(BM25())\n",
    "fe.add(DocSize())\n",
    "fe.add(MatchingTermCount())\n",
    "fe.add(PMI())\n",
    "fe.add(QueryLength())\n",
    "fe.add(SCQ())\n",
    "fe.add(SCS())\n",
    "fe.add(SumMatchingTF())\n",
    "fe.add(TFIDF())\n",
    "fe.add(UniqueTermCount())\n",
    "#seems to have bug\n",
    "# fe.add(UnorderedSequentialPairs(6))\n",
    "# fe.add(UnorderedSequentialPairs(8))\n",
    "# fe.add(UnorderedSequentialPairs(10))\n",
    "# fe.add(OrderedSequentialPairs(6))\n",
    "# fe.add(OrderedSequentialPairs(8))\n",
    "# fe.add(OrderedSequentialPairs(10))\n",
    "analyzer = Analyzer(get_lucene_analyzer())"
   ]
  },
  {
   "cell_type": "code",
   "execution_count": null,
   "metadata": {},
   "outputs": [],
   "source": [
    "queries = get_topics_with_reader('io.anserini.search.topicreader.TsvIntTopicReader',\n",
    "                                 'collections/msmarco-passage/queries.train.tsv')\n",
    "queries.update(get_topics_with_reader('io.anserini.search.topicreader.TsvIntTopicReader',\n",
    "                                 'collections/msmarco-passage/queries.dev.tsv'))"
   ]
  },
  {
   "cell_type": "code",
   "execution_count": null,
   "metadata": {},
   "outputs": [],
   "source": [
    "import pandas as pd\n",
    "import numpy as np\n",
    "train = pd.read_csv('collections/msmarco-passage/qidpidtriples.train.full.tsv',sep=\"\\t\",\n",
    "                    names=['qid','pos_pid','neg_pid'])\n",
    "pos_half = train[['qid','pos_pid']].rename(columns={\"pos_pid\": \"pid\"})\n",
    "pos_half['rel'] = 1.\n",
    "neg_half = train[['qid','neg_pid']].rename(columns={\"neg_pid\": \"pid\"})\n",
    "neg_half['rel'] = 0.\n",
    "train = pd.concat([pos_half,neg_half],axis=0,ignore_index=True)\n",
    "del pos_half, neg_half\n",
    "train=train[train['qid'].isin(pd.Series(train['qid'].unique()).sample(frac=0.01,random_state=123456))].reset_index(drop=True)\n",
    "dev = pd.read_csv('collections/msmarco-passage/top1000.dev',sep=\"\\t\",\n",
    "                    names=['qid','pid','query','doc'], usecols=['qid','pid'])\n",
    "dev=dev[dev['qid'].isin(pd.Series(dev['qid'].unique()).sample(n=500,random_state=123456))]"
   ]
  },
  {
   "cell_type": "code",
   "execution_count": null,
   "metadata": {},
   "outputs": [],
   "source": [
    "dev_qrel=pd.read_csv('collections/msmarco-passage/qrels.dev.small.tsv', sep=\"\\t\", names=[\"qid\",\"q0\",\"pid\",\"rel\"])\n",
    "dev_qrel[dev_qrel['qid'].isin(dev['qid'].unique())].to_csv('collections/msmarco-passage/qrels.dev.500.tsv', sep='\\t', header=False, index=False)"
   ]
  },
  {
   "cell_type": "code",
   "execution_count": null,
   "metadata": {},
   "outputs": [],
   "source": [
    "from tqdm import tqdm\n",
    "def extract(df,analyzer):\n",
    "    lines = []\n",
    "    fetch_later = []\n",
    "    for qid,group in df.groupby('qid'):\n",
    "        analyzed_query = analyzer.analyze(queries[qid]['title'])\n",
    "        docids = [str(did) for did in group['pid'].drop_duplicates().tolist()]\n",
    "        fe.lazy_extract(str(qid),analyzed_query,docids)\n",
    "        fetch_later.append(str(qid))\n",
    "        if len(fetch_later) == 100:\n",
    "            for qid in tqdm(fetch_later):\n",
    "                for pid, feature in fe.get_result(qid).items():\n",
    "                    lines.append((int(qid), int(pid), *feature))\n",
    "            fetch_later = []\n",
    "    extracted = pd.DataFrame(lines, columns=['qid','pid']+fe.feature_names())\n",
    "    return df.merge(extracted,how='inner',left_on=['qid','pid'],right_on=['qid','pid'])"
   ]
  },
  {
   "cell_type": "code",
   "execution_count": null,
   "metadata": {
    "scrolled": false
   },
   "outputs": [],
   "source": [
    "train_data=extract(train,analyzer)\n"
   ]
  },
  {
   "cell_type": "code",
   "execution_count": null,
   "metadata": {
    "scrolled": false
   },
   "outputs": [],
   "source": [
    "dev_data=extract(dev,analyzer)\n"
   ]
  },
  {
   "cell_type": "code",
   "execution_count": 9,
   "metadata": {
    "ExecuteTime": {
     "end_time": "2020-08-30T22:34:31.915917Z",
     "start_time": "2020-08-30T22:34:20.340577Z"
    }
   },
   "outputs": [
    {
     "data": {
      "text/plain": [
       "LGBMRegressor()"
      ]
     },
     "execution_count": 9,
     "metadata": {},
     "output_type": "execute_result"
    }
   ],
   "source": [
    "from lightgbm.sklearn import LGBMRegressor\n",
    "from sklearn.linear_model import LogisticRegression\n",
    "from sklearn.ensemble import RandomForestRegressor\n",
    "from sklearn.svm import LinearSVC\n",
    "model = LGBMRegressor()\n",
    "# model = LogisticRegression()\n",
    "# model = RandomForestRegressor()\n",
    "# model = LinearSVC()\n",
    "train_X = train_data.loc[:,fe.feature_names()].values\n",
    "train_Y = train_data.loc[:,'rel'].values\n",
    "model.fit(train_X, train_Y)"
   ]
  },
  {
   "cell_type": "code",
   "execution_count": 10,
   "metadata": {
    "ExecuteTime": {
     "end_time": "2020-08-30T22:34:32.097100Z",
     "start_time": "2020-08-30T22:34:31.918447Z"
    }
   },
   "outputs": [],
   "source": [
    "dev_X = dev_data.loc[:,fe.feature_names()].values\n",
    "dev_data['score'] = model.predict(dev_X)"
   ]
  },
  {
   "cell_type": "code",
   "execution_count": 11,
   "metadata": {
    "ExecuteTime": {
     "end_time": "2020-08-30T22:34:34.337946Z",
     "start_time": "2020-08-30T22:34:32.099479Z"
    }
   },
   "outputs": [
    {
     "name": "stderr",
     "output_type": "stream",
     "text": [
      "100%|██████████| 500/500 [00:02<00:00, 249.79it/s]\n"
     ]
    }
   ],
   "source": [
    "with open('lambdarank.run','w') as f:\n",
    "    for qid, group in tqdm(dev_data.groupby('qid')):\n",
    "        rank = 1\n",
    "        for t in group.sort_values('score',ascending=False).itertuples():\n",
    "            f.write(f'{t.qid}\\t{t.pid}\\t{rank}\\n')\n",
    "            rank += 1"
   ]
  },
  {
   "cell_type": "code",
   "execution_count": 12,
   "metadata": {
    "ExecuteTime": {
     "end_time": "2020-08-30T22:34:36.184523Z",
     "start_time": "2020-08-30T22:34:34.342123Z"
    }
   },
   "outputs": [
    {
     "name": "stdout",
     "output_type": "stream",
     "text": [
      "#####################\r\n",
      "MRR @10: 0.18552698412698415\r\n",
      "QueriesRanked: 500\r\n",
      "#####################\r\n"
     ]
    }
   ],
   "source": [
    "!python tools/scripts/msmarco/msmarco_eval.py collections/msmarco-passage/qrels.dev.500.tsv lambdarank.run"
   ]
  },
  {
   "cell_type": "code",
   "execution_count": 13,
   "metadata": {
    "ExecuteTime": {
     "end_time": "2020-08-30T22:34:39.027517Z",
     "start_time": "2020-08-30T22:34:36.188963Z"
    }
   },
   "outputs": [
    {
     "name": "stderr",
     "output_type": "stream",
     "text": [
      "100%|██████████| 500/500 [00:02<00:00, 201.39it/s]\n"
     ]
    }
   ],
   "source": [
    "with open('lambdarank.run.trec','w') as f:\n",
    "    for qid, group in tqdm(dev_data.groupby('qid')):\n",
    "        rank = 1\n",
    "        for t in group.sort_values('score',ascending=False).itertuples():\n",
    "            f.write(f'{t.qid}\\tQ0\\t{t.pid}\\t{rank}\\t{t.score}\\tlambdarank\\n')\n",
    "            rank+=1"
   ]
  },
  {
   "cell_type": "code",
   "execution_count": 14,
   "metadata": {
    "ExecuteTime": {
     "end_time": "2020-08-30T22:34:41.052366Z",
     "start_time": "2020-08-30T22:34:39.031372Z"
    }
   },
   "outputs": [
    {
     "name": "stdout",
     "output_type": "stream",
     "text": [
      "runid                 \tall\tlambdarank\r\n",
      "num_q                 \tall\t500\r\n",
      "num_ret               \tall\t482514\r\n",
      "num_rel               \tall\t530\r\n",
      "num_rel_ret           \tall\t429\r\n",
      "map                   \tall\t0.1932\r\n",
      "gm_map                \tall\t0.0146\r\n",
      "Rprec                 \tall\t0.0987\r\n",
      "bpref                 \tall\t0.8163\r\n",
      "recip_rank            \tall\t0.1982\r\n",
      "iprec_at_recall_0.00  \tall\t0.1983\r\n",
      "iprec_at_recall_0.10  \tall\t0.1983\r\n",
      "iprec_at_recall_0.20  \tall\t0.1983\r\n",
      "iprec_at_recall_0.30  \tall\t0.1983\r\n",
      "iprec_at_recall_0.40  \tall\t0.1968\r\n",
      "iprec_at_recall_0.50  \tall\t0.1968\r\n",
      "iprec_at_recall_0.60  \tall\t0.1891\r\n",
      "iprec_at_recall_0.70  \tall\t0.1891\r\n",
      "iprec_at_recall_0.80  \tall\t0.1885\r\n",
      "iprec_at_recall_0.90  \tall\t0.1885\r\n",
      "iprec_at_recall_1.00  \tall\t0.1885\r\n",
      "P_5                   \tall\t0.0600\r\n",
      "P_10                  \tall\t0.0402\r\n",
      "P_15                  \tall\t0.0313\r\n",
      "P_20                  \tall\t0.0248\r\n",
      "P_30                  \tall\t0.0182\r\n",
      "P_100                 \tall\t0.0070\r\n",
      "P_200                 \tall\t0.0038\r\n",
      "P_500                 \tall\t0.0016\r\n",
      "P_1000                \tall\t0.0009\r\n",
      "recall_5              \tall\t0.2947\r\n",
      "recall_10             \tall\t0.3893\r\n",
      "recall_15             \tall\t0.4510\r\n",
      "recall_20             \tall\t0.4760\r\n",
      "recall_30             \tall\t0.5230\r\n",
      "recall_100            \tall\t0.6740\r\n",
      "recall_200            \tall\t0.7270\r\n",
      "recall_500            \tall\t0.7823\r\n",
      "recall_1000           \tall\t0.8163\r\n",
      "infAP                 \tall\t0.1932\r\n",
      "gm_bpref              \tall\t0.1304\r\n",
      "Rprec_mult_0.20       \tall\t0.1040\r\n",
      "Rprec_mult_0.40       \tall\t0.1030\r\n",
      "Rprec_mult_0.60       \tall\t0.0990\r\n",
      "Rprec_mult_0.80       \tall\t0.0987\r\n",
      "Rprec_mult_1.00       \tall\t0.0987\r\n",
      "Rprec_mult_1.20       \tall\t0.0842\r\n",
      "Rprec_mult_1.40       \tall\t0.0841\r\n",
      "Rprec_mult_1.60       \tall\t0.0834\r\n",
      "Rprec_mult_1.80       \tall\t0.0837\r\n",
      "Rprec_mult_2.00       \tall\t0.0837\r\n",
      "utility               \tall\t-963.3120\r\n",
      "11pt_avg              \tall\t0.1937\r\n",
      "binG                  \tall\t0.3066\r\n",
      "G                     \tall\t0.3066\r\n",
      "ndcg                  \tall\t0.3093\r\n",
      "ndcg_rel              \tall\t0.3094\r\n",
      "Rndcg                 \tall\t0.2046\r\n",
      "ndcg_cut_5            \tall\t0.2002\r\n",
      "ndcg_cut_10           \tall\t0.2318\r\n",
      "ndcg_cut_15           \tall\t0.2486\r\n",
      "ndcg_cut_20           \tall\t0.2546\r\n",
      "ndcg_cut_30           \tall\t0.2646\r\n",
      "ndcg_cut_100          \tall\t0.2913\r\n",
      "ndcg_cut_200          \tall\t0.2988\r\n",
      "ndcg_cut_500          \tall\t0.3056\r\n",
      "ndcg_cut_1000         \tall\t0.3093\r\n",
      "map_cut_5             \tall\t0.1675\r\n",
      "map_cut_10            \tall\t0.1810\r\n",
      "map_cut_15            \tall\t0.1862\r\n",
      "map_cut_20            \tall\t0.1876\r\n",
      "map_cut_30            \tall\t0.1895\r\n",
      "map_cut_100           \tall\t0.1926\r\n",
      "map_cut_200           \tall\t0.1930\r\n",
      "map_cut_500           \tall\t0.1932\r\n",
      "map_cut_1000          \tall\t0.1932\r\n",
      "relative_P_5          \tall\t0.2947\r\n",
      "relative_P_10         \tall\t0.3893\r\n",
      "relative_P_15         \tall\t0.4510\r\n",
      "relative_P_20         \tall\t0.4760\r\n",
      "relative_P_30         \tall\t0.5230\r\n",
      "relative_P_100        \tall\t0.6740\r\n",
      "relative_P_200        \tall\t0.7270\r\n",
      "relative_P_500        \tall\t0.7823\r\n",
      "relative_P_1000       \tall\t0.8163\r\n",
      "success_1             \tall\t0.1040\r\n",
      "success_5             \tall\t0.3000\r\n",
      "success_10            \tall\t0.3960\r\n",
      "set_P                 \tall\t0.0017\r\n",
      "set_relative_P        \tall\t0.8163\r\n",
      "set_recall            \tall\t0.8163\r\n",
      "set_map               \tall\t0.0017\r\n",
      "set_F                 \tall\t0.0033\r\n",
      "num_nonrel_judged_ret \tall\t0\r\n"
     ]
    }
   ],
   "source": [
    "!tools/eval/trec_eval.9.0.4/trec_eval -m all_trec collections/msmarco-passage/qrels.dev.small.trec lambdarank.run.trec"
   ]
  },
  {
   "cell_type": "code",
   "execution_count": null,
   "metadata": {},
   "outputs": [],
   "source": []
  }
 ],
 "metadata": {
  "hide_input": false,
  "kernelspec": {
   "display_name": "Python 3",
   "language": "python",
   "name": "python3"
  },
  "language_info": {
   "codemirror_mode": {
    "name": "ipython",
    "version": 3
   },
   "file_extension": ".py",
   "mimetype": "text/x-python",
   "name": "python",
   "nbconvert_exporter": "python",
   "pygments_lexer": "ipython3",
   "version": "3.8.3"
  }
 },
 "nbformat": 4,
 "nbformat_minor": 4
}
