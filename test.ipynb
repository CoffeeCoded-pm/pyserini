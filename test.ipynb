{
 "cells": [
  {
   "cell_type": "code",
   "execution_count": 1,
   "metadata": {
    "ExecuteTime": {
     "end_time": "2020-09-19T14:17:56.322334Z",
     "start_time": "2020-09-19T14:17:54.963584Z"
    }
   },
   "outputs": [],
   "source": [
    "from pyserini.ltr import FeatureExtractor, AvgICTF, AvgIDF, BM25, DocSize, MatchingTermCount, \\\n",
    "    PMI, QueryLength, SCQ, SCS, SumMatchingTF, TFIDF, UniqueTermCount, \\\n",
    "    UnorderedSequentialPairs, OrderedSequentialPairs\n",
    "from pyserini.analysis import Analyzer, get_lucene_analyzer\n",
    "from pyserini.search import get_topics_with_reader\n",
    "fe = FeatureExtractor('indexes/msmarco-passage/lucene-index-msmarco/', 20)\n",
    "fe.add(AvgICTF())\n",
    "fe.add(AvgIDF())\n",
    "fe.add(BM25())\n",
    "fe.add(DocSize())\n",
    "fe.add(MatchingTermCount())\n",
    "#take too long\n",
    "fe.add(PMI())\n",
    "fe.add(QueryLength())\n",
    "fe.add(SCQ())\n",
    "fe.add(SCS())\n",
    "fe.add(SumMatchingTF())\n",
    "fe.add(TFIDF())\n",
    "fe.add(UniqueTermCount())\n",
    "analyzer = Analyzer(get_lucene_analyzer())"
   ]
  },
  {
   "cell_type": "code",
   "execution_count": 2,
   "metadata": {
    "ExecuteTime": {
     "end_time": "2020-09-19T14:19:00.295835Z",
     "start_time": "2020-09-19T14:17:56.326208Z"
    }
   },
   "outputs": [],
   "source": [
    "queries = get_topics_with_reader('io.anserini.search.topicreader.TsvIntTopicReader',\n",
    "                                 'collections/msmarco-passage/queries.train.tsv')\n",
    "queries.update(get_topics_with_reader('io.anserini.search.topicreader.TsvIntTopicReader',\n",
    "                                 'collections/msmarco-passage/queries.dev.tsv'))"
   ]
  },
  {
   "cell_type": "code",
   "execution_count": 3,
   "metadata": {
    "ExecuteTime": {
     "end_time": "2020-09-19T14:19:27.209914Z",
     "start_time": "2020-09-19T14:19:00.300745Z"
    }
   },
   "outputs": [],
   "source": [
    "import pandas as pd\n",
    "import numpy as np\n",
    "# train = pd.read_csv('collections/msmarco-passage/qidpidtriples.train.full.tsv',sep=\"\\t\",\n",
    "#                     names=['qid','pos_pid','neg_pid'])\n",
    "# pos_half = train[['qid','pos_pid']].rename(columns={\"pos_pid\": \"pid\"})\n",
    "# pos_half['rel'] = 1.\n",
    "# neg_half = train[['qid','neg_pid']].rename(columns={\"neg_pid\": \"pid\"})\n",
    "# neg_half['rel'] = 0.\n",
    "# train = pd.concat([pos_half,neg_half],axis=0,ignore_index=True)\n",
    "# del pos_half, neg_half\n",
    "# sampled_train_qid=pd.Series(train['qid'].unique()).sample(frac=0.01,random_state=123456)\n",
    "# sampled_train=train[train['qid'].isin(sampled_train_qid)].reset_index(drop=True).copy(deep=True)\n",
    "# del train\n",
    "sampled_train = pd.read_json('sampled_train.json')\n",
    "sampled_train_qid = pd.read_json('sampled_train_qid.json',typ='series', orient='records')"
   ]
  },
  {
   "cell_type": "code",
   "execution_count": 5,
   "metadata": {
    "ExecuteTime": {
     "end_time": "2020-09-19T14:19:29.285690Z",
     "start_time": "2020-09-19T14:19:29.050615Z"
    }
   },
   "outputs": [
    {
     "name": "stdout",
     "output_type": "stream",
     "text": [
      "(5417782, 3)\n",
      "(3277,)\n",
      "1653.2749465974978\n",
      "       qid      pid  rel\n",
      "0  1170090  3917099    1\n",
      "1   129031  6620836    1\n",
      "2   517222  3652956    1\n",
      "3  1045550  4710372    1\n",
      "4  1070824  2993656    1\n",
      "5   340406  6630217    1\n",
      "6   179852   376926    1\n",
      "7  1031093  3391276    1\n",
      "8   995835  5178179    1\n",
      "9   261655   284187    1\n"
     ]
    }
   ],
   "source": [
    "print(sampled_train.shape)\n",
    "print(sampled_train.qid.drop_duplicates().shape)\n",
    "print(sampled_train.groupby('qid').count().mean()['pid'])\n",
    "print(sampled_train.head(10))"
   ]
  },
  {
   "cell_type": "code",
   "execution_count": 6,
   "metadata": {
    "ExecuteTime": {
     "end_time": "2020-09-19T14:19:40.207821Z",
     "start_time": "2020-09-19T14:19:29.287300Z"
    }
   },
   "outputs": [],
   "source": [
    "dev = pd.read_csv('collections/msmarco-passage/top1000.dev',sep=\"\\t\",\n",
    "                    names=['qid','pid','query','doc'], usecols=['qid','pid'])\n",
    "sampled_dev_qid=pd.Series(dev['qid'].unique()).sample(n=500,random_state=123456)\n",
    "sampled_dev = dev[dev['qid'].isin(sampled_dev_qid)].reset_index(drop=True).copy(deep=True)\n",
    "del dev\n",
    "dev_qrel=pd.read_csv('collections/msmarco-passage/qrels.dev.small.tsv', sep=\"\\t\", names=[\"qid\",\"q0\",\"pid\",\"rel\"])\n",
    "dev_qrel[dev_qrel['qid'].isin(sampled_dev_qid)].to_csv('collections/msmarco-passage/qrels.dev.500.tsv', sep='\\t', header=False, index=False)"
   ]
  },
  {
   "cell_type": "code",
   "execution_count": 7,
   "metadata": {
    "ExecuteTime": {
     "end_time": "2020-09-19T14:19:40.247209Z",
     "start_time": "2020-09-19T14:19:40.212243Z"
    }
   },
   "outputs": [
    {
     "name": "stdout",
     "output_type": "stream",
     "text": [
      "(482514, 2)\n",
      "(500,)\n",
      "965.028\n",
      "       qid      pid\n",
      "0   820267  1000130\n",
      "1   991832  1000599\n",
      "2  1093443  1000611\n",
      "3   706950  1000647\n",
      "4   996805  1000797\n",
      "5    23285   100094\n",
      "6   198246  1001042\n",
      "7   370734  1001058\n",
      "8   939866  1001239\n",
      "9   425688  1001438\n"
     ]
    }
   ],
   "source": [
    "print(sampled_dev.shape)\n",
    "print(sampled_dev.qid.drop_duplicates().shape)\n",
    "print(sampled_dev.groupby('qid').count().mean()['pid'])\n",
    "print(sampled_dev.head(10))"
   ]
  },
  {
   "cell_type": "code",
   "execution_count": 8,
   "metadata": {
    "ExecuteTime": {
     "end_time": "2020-09-19T14:19:40.275400Z",
     "start_time": "2020-09-19T14:19:40.254735Z"
    }
   },
   "outputs": [],
   "source": [
    "from tqdm import tqdm\n",
    "def extract(df,analyzer):\n",
    "    lines = []\n",
    "    fetch_later = []\n",
    "    for qid,group in df.groupby('qid'):\n",
    "        analyzed_query = analyzer.analyze(queries[qid]['title'])\n",
    "        docids = [str(did) for did in group['pid'].drop_duplicates().tolist()]\n",
    "        fe.lazy_extract(str(qid),analyzed_query,docids)\n",
    "        fetch_later.append(str(qid))\n",
    "        if len(fetch_later) == 1000:\n",
    "            for qid in tqdm(fetch_later):\n",
    "                for doc in fe.get_result(qid):\n",
    "                    lines.append((int(qid), int(doc['pid']), *doc['features']))\n",
    "            fetch_later = []\n",
    "    #deal with rest\n",
    "    if len(fetch_later) > 0:\n",
    "        for qid in tqdm(fetch_later):\n",
    "            for doc in fe.get_result(qid):\n",
    "                lines.append((int(qid), int(doc['pid']), *doc['features']))\n",
    "        fetch_later = []\n",
    "    extracted = pd.DataFrame(lines, columns=['qid','pid']+fe.feature_names())\n",
    "    return df.merge(extracted,how='inner',left_on=['qid','pid'],right_on=['qid','pid'])"
   ]
  },
  {
   "cell_type": "code",
   "execution_count": 9,
   "metadata": {
    "ExecuteTime": {
     "end_time": "2020-09-19T14:19:40.283477Z",
     "start_time": "2020-09-19T14:19:40.278627Z"
    }
   },
   "outputs": [],
   "source": [
    "import json\n",
    "def export(df, analyzer, fn):\n",
    "    with open(fn,'w') as f:\n",
    "        for qid,group in df.groupby('qid'):\n",
    "            line = {}\n",
    "            line['qid'] = qid\n",
    "            line['queryTokens'] = analyzer.analyze(queries[qid]['title'])\n",
    "            line['docIds'] = [str(did) for did in group['pid'].drop_duplicates().tolist()]\n",
    "            f.write(json.dumps(line)+'\\n')"
   ]
  },
  {
   "cell_type": "code",
   "execution_count": 10,
   "metadata": {
    "ExecuteTime": {
     "end_time": "2020-09-19T14:23:38.372925Z",
     "start_time": "2020-09-19T14:19:40.285392Z"
    },
    "scrolled": false
   },
   "outputs": [
    {
     "name": "stderr",
     "output_type": "stream",
     "text": [
      "100%|██████████| 1000/1000 [01:09<00:00, 14.35it/s]\n",
      "100%|██████████| 1000/1000 [00:59<00:00, 16.68it/s]\n",
      "100%|██████████| 1000/1000 [01:00<00:00, 16.43it/s]\n",
      "100%|██████████| 277/277 [00:17<00:00, 15.75it/s]\n"
     ]
    }
   ],
   "source": [
    "train_data=extract(sampled_train,analyzer)\n",
    "#export(sampled_train,analyzer,'train.json')"
   ]
  },
  {
   "cell_type": "code",
   "execution_count": 12,
   "metadata": {
    "ExecuteTime": {
     "end_time": "2020-09-19T14:24:48.721001Z",
     "start_time": "2020-09-19T14:24:03.690436Z"
    },
    "scrolled": false
   },
   "outputs": [
    {
     "name": "stderr",
     "output_type": "stream",
     "text": [
      "100%|██████████| 500/500 [00:39<00:00, 12.61it/s]\n"
     ]
    }
   ],
   "source": [
    "dev_data=extract(sampled_dev,analyzer)\n",
    "#export(sampled_dev,analyzer,'dev.json')"
   ]
  },
  {
   "cell_type": "code",
   "execution_count": 14,
   "metadata": {
    "ExecuteTime": {
     "end_time": "2020-09-19T14:25:02.930023Z",
     "start_time": "2020-09-19T14:24:50.896877Z"
    },
    "scrolled": true
   },
   "outputs": [
    {
     "data": {
      "text/plain": [
       "LGBMRegressor(random_state=12345)"
      ]
     },
     "execution_count": 14,
     "metadata": {},
     "output_type": "execute_result"
    }
   ],
   "source": [
    "from lightgbm.sklearn import LGBMRegressor\n",
    "from sklearn.linear_model import LogisticRegression\n",
    "from sklearn.ensemble import RandomForestRegressor\n",
    "from sklearn.svm import LinearSVC\n",
    "model = LGBMRegressor(random_state=12345)\n",
    "# model = LogisticRegression()\n",
    "# model = RandomForestRegressor()\n",
    "# model = LinearSVC()\n",
    "train_X = train_data.loc[:,fe.feature_names()].values\n",
    "train_Y = train_data.loc[:,'rel'].values\n",
    "model.fit(train_X, train_Y)"
   ]
  },
  {
   "cell_type": "code",
   "execution_count": 15,
   "metadata": {
    "ExecuteTime": {
     "end_time": "2020-09-19T14:25:03.137545Z",
     "start_time": "2020-09-19T14:25:02.933707Z"
    }
   },
   "outputs": [],
   "source": [
    "dev_X = dev_data.loc[:,fe.feature_names()].values\n",
    "dev_data['score'] = model.predict(dev_X)"
   ]
  },
  {
   "cell_type": "code",
   "execution_count": 16,
   "metadata": {
    "ExecuteTime": {
     "end_time": "2020-09-19T14:25:06.508005Z",
     "start_time": "2020-09-19T14:25:03.139492Z"
    },
    "scrolled": true
   },
   "outputs": [
    {
     "name": "stderr",
     "output_type": "stream",
     "text": [
      "100%|██████████| 500/500 [00:03<00:00, 161.20it/s]\n"
     ]
    },
    {
     "name": "stdout",
     "output_type": "stream",
     "text": [
      "score_tie occurs 305143 times in 497 queries\n"
     ]
    }
   ],
   "source": [
    "with open('lambdarank.run','w') as f:\n",
    "    score_tie_counter = 0\n",
    "    score_tie_query = set()\n",
    "    for qid, group in tqdm(dev_data.groupby('qid')):\n",
    "        rank = 1\n",
    "        prev_score = -1e10\n",
    "        prev_pid = ''\n",
    "        assert len(group['pid'].tolist()) == len(set(group['pid'].tolist()))\n",
    "        for t in group.sort_values(['score','pid'],ascending=False).itertuples():\n",
    "            if abs(t.score-prev_score)<1e-8:\n",
    "                score_tie_counter+=1\n",
    "                score_tie_query.add(qid)\n",
    "            assert prev_pid != t.pid\n",
    "            prev_score = t.score\n",
    "            prev_pid = t.pid\n",
    "            f.write(f'{t.qid}\\t{t.pid}\\t{rank}\\n')\n",
    "            rank += 1\n",
    "    if score_tie_counter>0:\n",
    "        print(f'score_tie occurs {score_tie_counter} times in {len(score_tie_query)} queries')"
   ]
  },
  {
   "cell_type": "code",
   "execution_count": 18,
   "metadata": {
    "ExecuteTime": {
     "end_time": "2020-09-19T14:25:09.163789Z",
     "start_time": "2020-09-19T14:25:07.591055Z"
    }
   },
   "outputs": [
    {
     "name": "stdout",
     "output_type": "stream",
     "text": [
      "#####################\r\n",
      "MRR @10: 0.18456746031746044\r\n",
      "QueriesRanked: 500\r\n",
      "#####################\r\n"
     ]
    }
   ],
   "source": [
    "!python tools/scripts/msmarco/msmarco_eval.py collections/msmarco-passage/qrels.dev.500.tsv lambdarank.run"
   ]
  },
  {
   "cell_type": "code",
   "execution_count": 19,
   "metadata": {
    "ExecuteTime": {
     "end_time": "2020-09-19T14:25:12.392838Z",
     "start_time": "2020-09-19T14:25:09.168979Z"
    }
   },
   "outputs": [
    {
     "name": "stderr",
     "output_type": "stream",
     "text": [
      "100%|██████████| 500/500 [00:02<00:00, 169.81it/s]\n"
     ]
    }
   ],
   "source": [
    "with open('lambdarank.run.trec','w') as f:\n",
    "    for qid, group in tqdm(dev_data.groupby('qid')):\n",
    "        rank = 1\n",
    "        assert len(group['pid'].tolist()) == len(set(group['pid'].tolist()))\n",
    "        for t in group.sort_values(['score','pid'],ascending=False).itertuples():\n",
    "            new_score = t.score - rank*1e-6\n",
    "            f.write(f'{t.qid}\\tQ0\\t{t.pid}\\t{rank}\\t{new_score:.6f}\\tlambdarank\\n')\n",
    "            rank+=1"
   ]
  },
  {
   "cell_type": "code",
   "execution_count": 21,
   "metadata": {
    "ExecuteTime": {
     "end_time": "2020-09-19T14:25:15.127024Z",
     "start_time": "2020-09-19T14:25:13.472009Z"
    }
   },
   "outputs": [
    {
     "name": "stdout",
     "output_type": "stream",
     "text": [
      "map                   \tall\t0.1926\r\n",
      "recall_1000           \tall\t0.8163\r\n"
     ]
    }
   ],
   "source": [
    "!tools/eval/trec_eval.9.0.4/trec_eval -m all_trec collections/msmarco-passage/qrels.dev.500.tsv lambdarank.run.trec | egrep '^map\\s|recall_1000'"
   ]
  },
  {
   "cell_type": "code",
   "execution_count": null,
   "metadata": {},
   "outputs": [],
   "source": []
  }
 ],
 "metadata": {
  "hide_input": false,
  "kernelspec": {
   "display_name": "Python 3",
   "language": "python",
   "name": "python3"
  },
  "language_info": {
   "codemirror_mode": {
    "name": "ipython",
    "version": 3
   },
   "file_extension": ".py",
   "mimetype": "text/x-python",
   "name": "python",
   "nbconvert_exporter": "python",
   "pygments_lexer": "ipython3",
   "version": "3.8.3"
  }
 },
 "nbformat": 4,
 "nbformat_minor": 4
}
