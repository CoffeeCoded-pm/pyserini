{
 "cells": [
  {
   "cell_type": "code",
   "execution_count": 29,
   "metadata": {
    "ExecuteTime": {
     "end_time": "2020-08-19T02:09:34.485284Z",
     "start_time": "2020-08-19T02:09:34.365705Z"
    }
   },
   "outputs": [],
   "source": [
    "from pyserini.ltr import FeatureExtractor, QueryLength, BM25\n",
    "from pyserini.analysis import Analyzer, get_lucene_analyzer\n",
    "from pyserini.search import get_topics_with_reader\n",
    "fe = FeatureExtractor('indexes/msmarco-passage/lucene-index-msmarco/', 8)\n",
    "fe.add(QueryLength())\n",
    "fe.add(BM25())\n",
    "analyzer = Analyzer(get_lucene_analyzer())"
   ]
  },
  {
   "cell_type": "code",
   "execution_count": 2,
   "metadata": {
    "ExecuteTime": {
     "end_time": "2020-08-19T01:23:03.258068Z",
     "start_time": "2020-08-19T01:20:52.204681Z"
    }
   },
   "outputs": [],
   "source": [
    "queries = get_topics_with_reader('io.anserini.search.topicreader.TsvIntTopicReader',\n",
    "                                 'collections/msmarco-passage/queries.train.tsv')\n",
    "queries.update(get_topics_with_reader('io.anserini.search.topicreader.TsvIntTopicReader',\n",
    "                                 'collections/msmarco-passage/queries.dev.tsv'))"
   ]
  },
  {
   "cell_type": "code",
   "execution_count": 3,
   "metadata": {
    "ExecuteTime": {
     "end_time": "2020-08-19T01:31:39.026660Z",
     "start_time": "2020-08-19T01:23:03.262792Z"
    }
   },
   "outputs": [],
   "source": [
    "import pandas as pd\n",
    "import numpy as np\n",
    "train = pd.read_csv('collections/msmarco-passage/qidpidtriples.train.full.tsv',sep=\"\\t\",\n",
    "                    names=['qid','pos_pid','neg_pid'])\n",
    "pos_half = train[['qid','pos_pid']].rename(columns={\"pos_pid\": \"pid\"})\n",
    "pos_half['rel'] = 1.\n",
    "neg_half = train[['qid','neg_pid']].rename(columns={\"neg_pid\": \"pid\"})\n",
    "neg_half['rel'] = 0.\n",
    "train = pd.concat([pos_half,neg_half],axis=0,ignore_index=True)\n",
    "del pos_half, neg_half\n",
    "train=train[train['qid'].isin(pd.Series(train['qid'].unique()).sample(frac=0.01,random_state=123456))].reset_index(drop=True)\n",
    "dev = pd.read_csv('collections/msmarco-passage/top1000.dev',sep=\"\\t\",\n",
    "                    names=['qid','pid']+fe.feature_names(), usecols=['qid','pid'])\n",
    "dev=dev[dev['qid'].isin(pd.Series(dev['qid'].unique()).sample(n=500,random_state=123456))]"
   ]
  },
  {
   "cell_type": "code",
   "execution_count": 4,
   "metadata": {
    "ExecuteTime": {
     "end_time": "2020-08-19T01:31:39.079402Z",
     "start_time": "2020-08-19T01:31:39.030353Z"
    }
   },
   "outputs": [],
   "source": [
    "dev_qrel=pd.read_csv('collections/msmarco-passage/qrels.dev.small.tsv', sep=\"\\t\", names=[\"qid\",\"q0\",\"pid\",\"rel\"])\n",
    "dev_qrel[dev_qrel['qid'].isin(dev['qid'].unique())].to_csv('collections/msmarco-passage/qrels.dev.500.tsv', sep='\\t', header=False, index=False)"
   ]
  },
  {
   "cell_type": "code",
   "execution_count": 10,
   "metadata": {
    "ExecuteTime": {
     "end_time": "2020-08-19T01:35:42.492537Z",
     "start_time": "2020-08-19T01:35:42.481516Z"
    }
   },
   "outputs": [],
   "source": [
    "from tqdm import tqdm\n",
    "def extract(df,analyzer):\n",
    "    lines = []\n",
    "    for qid,group in tqdm(df.groupby('qid')):\n",
    "        analyzed_query = analyzer.analyze(queries[qid]['title'])\n",
    "        docids = [str(did) for did in group['pid'].drop_duplicates().tolist()]\n",
    "        pid_mapping = fe.extract(analyzed_query,docids)\n",
    "        for pid, feature in pid_mapping.items():\n",
    "            lines.append((qid, int(pid), *feature))\n",
    "    extracted = pd.DataFrame(lines, columns=['qid','pid']+fe.feature_names())\n",
    "    return df.merge(extracted,how='inner',left_on=['qid','pid'],right_on=['qid','pid'])"
   ]
  },
  {
   "cell_type": "code",
   "execution_count": 32,
   "metadata": {
    "ExecuteTime": {
     "end_time": "2020-08-19T02:14:15.565911Z",
     "start_time": "2020-08-19T02:14:15.554441Z"
    }
   },
   "outputs": [],
   "source": [
    "from tqdm import tqdm\n",
    "def extract(df,analyzer):\n",
    "    lines = []\n",
    "    fetch_later = []\n",
    "    for qid,group in tqdm(df.groupby('qid')):\n",
    "        analyzed_query = analyzer.analyze(queries[qid]['title'])\n",
    "        docids = [str(did) for did in group['pid'].drop_duplicates().tolist()]\n",
    "        fe.lazy_extract(str(qid),analyzed_query,docids)\n",
    "        fetch_later.append(str(qid))\n",
    "    for qid in tqdm(fetch_later):\n",
    "        for pid, feature in fe.get_result(qid).items():\n",
    "            lines.append((int(qid), int(pid), *feature))\n",
    "    extracted = pd.DataFrame(lines, columns=['qid','pid']+fe.feature_names())\n",
    "    return df.merge(extracted,how='inner',left_on=['qid','pid'],right_on=['qid','pid'])"
   ]
  },
  {
   "cell_type": "code",
   "execution_count": 33,
   "metadata": {
    "ExecuteTime": {
     "end_time": "2020-08-19T02:25:21.450503Z",
     "start_time": "2020-08-19T02:14:15.864572Z"
    },
    "scrolled": false
   },
   "outputs": [
    {
     "name": "stderr",
     "output_type": "stream",
     "text": [
      "100%|██████████| 3277/3277 [03:49<00:00, 14.26it/s]\n",
      "100%|██████████| 3277/3277 [05:25<00:00, 10.08it/s]\n",
      "100%|██████████| 500/500 [00:42<00:00, 11.65it/s]\n",
      "100%|██████████| 500/500 [00:59<00:00,  8.43it/s]\n"
     ]
    }
   ],
   "source": [
    "train_data=extract(train,analyzer)\n",
    "dev_data=extract(dev,analyzer)"
   ]
  },
  {
   "cell_type": "code",
   "execution_count": 34,
   "metadata": {
    "ExecuteTime": {
     "end_time": "2020-08-19T02:25:53.759230Z",
     "start_time": "2020-08-19T02:25:28.112133Z"
    }
   },
   "outputs": [
    {
     "data": {
      "text/plain": [
       "LGBMRegressor()"
      ]
     },
     "execution_count": 34,
     "metadata": {},
     "output_type": "execute_result"
    }
   ],
   "source": [
    "from lightgbm.sklearn import LGBMRegressor\n",
    "model = LGBMRegressor()\n",
    "train_X = train_data.loc[:,fe.feature_names()].values\n",
    "train_Y = train_data.loc[:,'rel'].values\n",
    "model.fit(train_X, train_Y)"
   ]
  },
  {
   "cell_type": "code",
   "execution_count": 35,
   "metadata": {
    "ExecuteTime": {
     "end_time": "2020-08-19T02:25:54.046700Z",
     "start_time": "2020-08-19T02:25:53.762870Z"
    }
   },
   "outputs": [],
   "source": [
    "dev_X = dev_data.loc[:,fe.feature_names()].values\n",
    "dev_data['score'] = model.predict(dev_X)"
   ]
  },
  {
   "cell_type": "code",
   "execution_count": 36,
   "metadata": {
    "ExecuteTime": {
     "end_time": "2020-08-19T02:25:56.794857Z",
     "start_time": "2020-08-19T02:25:54.050022Z"
    }
   },
   "outputs": [
    {
     "name": "stderr",
     "output_type": "stream",
     "text": [
      "100%|██████████| 500/500 [00:02<00:00, 200.62it/s]\n"
     ]
    }
   ],
   "source": [
    "with open('lambdarank.run','w') as f:\n",
    "    for qid, group in tqdm(dev_data.groupby('qid')):\n",
    "        rank = 1\n",
    "        for t in group.sort_values('score',ascending=False).itertuples():\n",
    "            f.write(f'{t.qid}\\t{t.pid}\\t{rank}\\n')\n",
    "            rank += 1"
   ]
  },
  {
   "cell_type": "code",
   "execution_count": 37,
   "metadata": {
    "ExecuteTime": {
     "end_time": "2020-08-19T02:25:59.610136Z",
     "start_time": "2020-08-19T02:25:56.798099Z"
    }
   },
   "outputs": [
    {
     "name": "stdout",
     "output_type": "stream",
     "text": [
      "#####################\r\n",
      "MRR @10: 0.18534682539682537\r\n",
      "QueriesRanked: 500\r\n",
      "#####################\r\n"
     ]
    }
   ],
   "source": [
    "!python tools/scripts/msmarco/msmarco_eval.py collections/msmarco-passage/qrels.dev.500.tsv lambdarank.run"
   ]
  },
  {
   "cell_type": "code",
   "execution_count": 38,
   "metadata": {
    "ExecuteTime": {
     "end_time": "2020-08-19T02:26:03.340379Z",
     "start_time": "2020-08-19T02:25:59.613012Z"
    }
   },
   "outputs": [
    {
     "name": "stderr",
     "output_type": "stream",
     "text": [
      "100%|██████████| 500/500 [00:03<00:00, 149.25it/s]\n"
     ]
    }
   ],
   "source": [
    "with open('lambdarank.run.trec','w') as f:\n",
    "    for qid, group in tqdm(dev_data.groupby('qid')):\n",
    "        rank = 1\n",
    "        for t in group.sort_values('score',ascending=False).itertuples():\n",
    "            f.write(f'{t.qid}\\tQ0\\t{t.pid}\\t{rank}\\t{t.score}\\tlambdarank\\n')\n",
    "            rank+=1"
   ]
  },
  {
   "cell_type": "code",
   "execution_count": 39,
   "metadata": {
    "ExecuteTime": {
     "end_time": "2020-08-19T02:26:06.170414Z",
     "start_time": "2020-08-19T02:26:03.346171Z"
    }
   },
   "outputs": [
    {
     "name": "stdout",
     "output_type": "stream",
     "text": [
      "runid                 \tall\tlambdarank\r\n",
      "num_q                 \tall\t500\r\n",
      "num_ret               \tall\t482514\r\n",
      "num_rel               \tall\t530\r\n",
      "num_rel_ret           \tall\t429\r\n",
      "map                   \tall\t0.1932\r\n",
      "gm_map                \tall\t0.0138\r\n",
      "Rprec                 \tall\t0.0927\r\n",
      "bpref                 \tall\t0.8163\r\n",
      "recip_rank            \tall\t0.1959\r\n",
      "iprec_at_recall_0.00  \tall\t0.1962\r\n",
      "iprec_at_recall_0.10  \tall\t0.1962\r\n",
      "iprec_at_recall_0.20  \tall\t0.1962\r\n",
      "iprec_at_recall_0.30  \tall\t0.1962\r\n",
      "iprec_at_recall_0.40  \tall\t0.1959\r\n",
      "iprec_at_recall_0.50  \tall\t0.1959\r\n",
      "iprec_at_recall_0.60  \tall\t0.1909\r\n",
      "iprec_at_recall_0.70  \tall\t0.1909\r\n",
      "iprec_at_recall_0.80  \tall\t0.1904\r\n",
      "iprec_at_recall_0.90  \tall\t0.1904\r\n",
      "iprec_at_recall_1.00  \tall\t0.1904\r\n",
      "P_5                   \tall\t0.0632\r\n",
      "P_10                  \tall\t0.0416\r\n",
      "P_15                  \tall\t0.0309\r\n",
      "P_20                  \tall\t0.0247\r\n",
      "P_30                  \tall\t0.0185\r\n",
      "P_100                 \tall\t0.0066\r\n",
      "P_200                 \tall\t0.0037\r\n",
      "P_500                 \tall\t0.0016\r\n",
      "P_1000                \tall\t0.0009\r\n",
      "recall_5              \tall\t0.3087\r\n",
      "recall_10             \tall\t0.4013\r\n",
      "recall_15             \tall\t0.4440\r\n",
      "recall_20             \tall\t0.4730\r\n",
      "recall_30             \tall\t0.5310\r\n",
      "recall_100            \tall\t0.6320\r\n",
      "recall_200            \tall\t0.7067\r\n",
      "recall_500            \tall\t0.7753\r\n",
      "recall_1000           \tall\t0.8163\r\n",
      "infAP                 \tall\t0.1932\r\n",
      "gm_bpref              \tall\t0.1304\r\n",
      "Rprec_mult_0.20       \tall\t0.0940\r\n",
      "Rprec_mult_0.40       \tall\t0.0940\r\n",
      "Rprec_mult_0.60       \tall\t0.0920\r\n",
      "Rprec_mult_0.80       \tall\t0.0927\r\n",
      "Rprec_mult_1.00       \tall\t0.0927\r\n",
      "Rprec_mult_1.20       \tall\t0.0918\r\n",
      "Rprec_mult_1.40       \tall\t0.0917\r\n",
      "Rprec_mult_1.60       \tall\t0.0924\r\n",
      "Rprec_mult_1.80       \tall\t0.0923\r\n",
      "Rprec_mult_2.00       \tall\t0.0923\r\n",
      "utility               \tall\t-963.3120\r\n",
      "11pt_avg              \tall\t0.1936\r\n",
      "binG                  \tall\t0.3054\r\n",
      "G                     \tall\t0.3054\r\n",
      "ndcg                  \tall\t0.3078\r\n",
      "ndcg_rel              \tall\t0.3068\r\n",
      "Rndcg                 \tall\t0.2004\r\n",
      "ndcg_cut_5            \tall\t0.2056\r\n",
      "ndcg_cut_10           \tall\t0.2357\r\n",
      "ndcg_cut_15           \tall\t0.2474\r\n",
      "ndcg_cut_20           \tall\t0.2543\r\n",
      "ndcg_cut_30           \tall\t0.2667\r\n",
      "ndcg_cut_100          \tall\t0.2843\r\n",
      "ndcg_cut_200          \tall\t0.2949\r\n",
      "ndcg_cut_500          \tall\t0.3033\r\n",
      "ndcg_cut_1000         \tall\t0.3078\r\n",
      "map_cut_5             \tall\t0.1704\r\n",
      "map_cut_10            \tall\t0.1828\r\n",
      "map_cut_15            \tall\t0.1864\r\n",
      "map_cut_20            \tall\t0.1880\r\n",
      "map_cut_30            \tall\t0.1904\r\n",
      "map_cut_100           \tall\t0.1923\r\n",
      "map_cut_200           \tall\t0.1929\r\n",
      "map_cut_500           \tall\t0.1931\r\n",
      "map_cut_1000          \tall\t0.1932\r\n",
      "relative_P_5          \tall\t0.3087\r\n",
      "relative_P_10         \tall\t0.4013\r\n",
      "relative_P_15         \tall\t0.4440\r\n",
      "relative_P_20         \tall\t0.4730\r\n",
      "relative_P_30         \tall\t0.5310\r\n",
      "relative_P_100        \tall\t0.6320\r\n",
      "relative_P_200        \tall\t0.7067\r\n",
      "relative_P_500        \tall\t0.7753\r\n",
      "relative_P_1000       \tall\t0.8163\r\n",
      "success_1             \tall\t0.0940\r\n",
      "success_5             \tall\t0.3160\r\n",
      "success_10            \tall\t0.4080\r\n",
      "set_P                 \tall\t0.0017\r\n",
      "set_relative_P        \tall\t0.8163\r\n",
      "set_recall            \tall\t0.8163\r\n",
      "set_map               \tall\t0.0017\r\n",
      "set_F                 \tall\t0.0033\r\n",
      "num_nonrel_judged_ret \tall\t0\r\n"
     ]
    }
   ],
   "source": [
    "!tools/eval/trec_eval.9.0.4/trec_eval -m all_trec collections/msmarco-passage/qrels.dev.small.trec lambdarank.run.trec"
   ]
  },
  {
   "cell_type": "code",
   "execution_count": null,
   "metadata": {},
   "outputs": [],
   "source": []
  }
 ],
 "metadata": {
  "hide_input": false,
  "kernelspec": {
   "display_name": "Python 3",
   "language": "python",
   "name": "python3"
  },
  "language_info": {
   "codemirror_mode": {
    "name": "ipython",
    "version": 3
   },
   "file_extension": ".py",
   "mimetype": "text/x-python",
   "name": "python",
   "nbconvert_exporter": "python",
   "pygments_lexer": "ipython3",
   "version": "3.8.3"
  }
 },
 "nbformat": 4,
 "nbformat_minor": 4
}
