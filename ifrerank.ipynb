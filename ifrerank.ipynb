{
 "cells": [
  {
   "cell_type": "code",
   "execution_count": 1,
   "metadata": {
    "ExecuteTime": {
     "end_time": "2020-11-29T22:49:00.381214Z",
     "start_time": "2020-11-29T22:48:20.275763Z"
    }
   },
   "outputs": [
    {
     "name": "stdout",
     "output_type": "stream",
     "text": [
      "<class 'pandas.core.frame.DataFrame'>\n",
      "MultiIndex: 6974598 entries, (2, 55860) to (1102400, 8830447)\n",
      "Data columns (total 2 columns):\n",
      " #   Column  Dtype  \n",
      "---  ------  -----  \n",
      " 0   score   float64\n",
      " 1   rel     float64\n",
      "dtypes: float64(2)\n",
      "memory usage: 335.9 MB\n"
     ]
    }
   ],
   "source": [
    "import pandas as pd\n",
    "import numpy as np\n",
    "ltr_dev = pd.read_json('2020-11-29_16:56:08_b0444fd2-328d-11eb-a5d8-bfed4aec1d90/output.json')\n",
    "dev_qrel = pd.read_csv('collections/msmarco-passage/qrels.dev.small.tsv', sep=\"\\t\",\n",
    "                       names=[\"qid\", \"q0\", \"pid\", \"rel\"], \n",
    "                       usecols=['qid', 'pid', 'rel'])                                                                                         \n",
    "ltr_dev = ltr_dev.merge(dev_qrel, left_on=['qid', 'pid'], right_on=['qid', 'pid'], how='left')                                                                                                           \n",
    "ltr_dev['rel'] = ltr_dev['rel'].fillna(0)                                                                                                                                             \n",
    "ltr_dev = ltr_dev.sort_values(['qid','pid']).set_index(['qid','pid'])\n",
    "ltr_dev.info()"
   ]
  },
  {
   "cell_type": "code",
   "execution_count": 2,
   "metadata": {
    "ExecuteTime": {
     "end_time": "2020-11-29T22:49:13.429063Z",
     "start_time": "2020-11-29T22:49:00.383390Z"
    }
   },
   "outputs": [
    {
     "name": "stdout",
     "output_type": "stream",
     "text": [
      "<class 'pandas.core.frame.DataFrame'>\n",
      "MultiIndex: 6974598 entries, (2, 55860) to (1102400, 8830447)\n",
      "Data columns (total 2 columns):\n",
      " #   Column  Dtype  \n",
      "---  ------  -----  \n",
      " 0   score   float64\n",
      " 1   rel     float64\n",
      "dtypes: float64(2)\n",
      "memory usage: 335.9 MB\n"
     ]
    }
   ],
   "source": [
    "import pandas as pd\n",
    "import numpy as np\n",
    "bert_dev = pd.read_csv('../pygaggle/runs/run.monobert.ans_entire.dev.trec', sep=\"\\t\", \n",
    "                  names=['qid','q0','pid','rank','score','tag'],\n",
    "                  usecols=['qid', 'pid', 'score'])\n",
    "dev_qrel = pd.read_csv('collections/msmarco-passage/qrels.dev.small.tsv', sep=\"\\t\", \n",
    "                       names=[\"qid\", \"q0\", \"pid\", \"rel\"], \n",
    "                       usecols=['qid', 'pid', 'rel'])                                                                                         \n",
    "bert_dev = bert_dev.merge(dev_qrel, left_on=['qid', 'pid'], right_on=['qid', 'pid'], how='left')                                                                                                           \n",
    "bert_dev['rel'] = bert_dev['rel'].fillna(0)                                                                                                                                            \n",
    "bert_dev = bert_dev.sort_values(['qid','pid']).set_index(['qid','pid'])\n",
    "bert_dev.info()"
   ]
  },
  {
   "cell_type": "code",
   "execution_count": 5,
   "metadata": {
    "ExecuteTime": {
     "end_time": "2020-11-29T22:49:13.524256Z",
     "start_time": "2020-11-29T22:49:13.507489Z"
    }
   },
   "outputs": [],
   "source": [
    "from tqdm import tqdm\n",
    "def eval_mrr(dev_data):                                                                                                                                                                                  \n",
    "    score_tie_counter = 0                                                                                                                                                                                \n",
    "    score_tie_query = set()                                                                                                                                                                              \n",
    "    MRR = []                                                                                                                                                                                             \n",
    "    for qid, group in tqdm(dev_data.groupby('qid')):                                                                                                                                                     \n",
    "        group = group.reset_index()                                                                                                                                                                      \n",
    "        rank = 0                                                                                                                                                                                         \n",
    "        prev_score = None                                                                                                                                                                                \n",
    "        assert len(group['pid'].tolist()) == len(set(group['pid'].tolist()))                                                                                                                             \n",
    "        # stable sort is also used in LightGBM                                                                                                                                                           \n",
    "                                                                                                                                                                                                         \n",
    "        for t in group.sort_values('score', ascending=False, kind='mergesort').itertuples():                                                                                                             \n",
    "            if prev_score is not None and abs(t.score - prev_score) < 1e-8:                                                                                                                              \n",
    "                score_tie_counter += 1                                                                                                                                                                   \n",
    "                score_tie_query.add(qid)                                                                                                                                                                 \n",
    "            prev_score = t.score                                                                                                                                                                         \n",
    "            prev_pid = t.pid                                                                                                                                                                             \n",
    "            rank += 1                                                                                                                                                                                    \n",
    "            if t.rel>0:                                                                                                                                                                                  \n",
    "                MRR.append(1.0/rank)                                                                                                                                                                     \n",
    "                break                                                                                                                                                                                    \n",
    "            elif rank == 10 or rank == len(group):\n",
    "                MRR.append(0.)\n",
    "                break\n",
    "\n",
    "    score_tie = f'score_tie occurs {score_tie_counter} times in {len(score_tie_query)} queries'\n",
    "    print(score_tie)\n",
    "    mrr_10 = np.mean(MRR).item()\n",
    "    print(f'MRR@10:{mrr_10} with {len(MRR)} queries')\n",
    "    return {'score_tie': score_tie, 'mrr_10': mrr_10}"
   ]
  },
  {
   "cell_type": "code",
   "execution_count": 6,
   "metadata": {
    "ExecuteTime": {
     "end_time": "2020-11-29T22:49:26.936511Z",
     "start_time": "2020-11-29T22:49:13.526533Z"
    }
   },
   "outputs": [
    {
     "name": "stderr",
     "output_type": "stream",
     "text": [
      "100%|██████████| 6980/6980 [00:12<00:00, 538.90it/s]"
     ]
    },
    {
     "name": "stdout",
     "output_type": "stream",
     "text": [
      "score_tie occurs 895 times in 647 queries\n",
      "MRR@10:0.21159025787965619 with 6980 queries\n"
     ]
    },
    {
     "name": "stderr",
     "output_type": "stream",
     "text": [
      "\n"
     ]
    },
    {
     "data": {
      "text/plain": [
       "{'score_tie': 'score_tie occurs 895 times in 647 queries',\n",
       " 'mrr_10': 0.21159025787965619}"
      ]
     },
     "execution_count": 6,
     "metadata": {},
     "output_type": "execute_result"
    }
   ],
   "source": [
    "eval_mrr(ltr_dev)"
   ]
  },
  {
   "cell_type": "code",
   "execution_count": 7,
   "metadata": {
    "ExecuteTime": {
     "end_time": "2020-11-29T22:49:40.235598Z",
     "start_time": "2020-11-29T22:49:26.938031Z"
    }
   },
   "outputs": [
    {
     "name": "stderr",
     "output_type": "stream",
     "text": [
      "100%|██████████| 6980/6980 [00:12<00:00, 545.30it/s]"
     ]
    },
    {
     "name": "stdout",
     "output_type": "stream",
     "text": [
      "score_tie occurs 106 times in 103 queries\n",
      "MRR@10:0.37926735116205024 with 6980 queries\n"
     ]
    },
    {
     "name": "stderr",
     "output_type": "stream",
     "text": [
      "\n"
     ]
    },
    {
     "data": {
      "text/plain": [
       "{'score_tie': 'score_tie occurs 106 times in 103 queries',\n",
       " 'mrr_10': 0.37926735116205024}"
      ]
     },
     "execution_count": 7,
     "metadata": {},
     "output_type": "execute_result"
    }
   ],
   "source": [
    "eval_mrr(bert_dev)"
   ]
  },
  {
   "cell_type": "code",
   "execution_count": 8,
   "metadata": {
    "ExecuteTime": {
     "end_time": "2020-11-29T22:49:43.078674Z",
     "start_time": "2020-11-29T22:49:40.238187Z"
    }
   },
   "outputs": [
    {
     "name": "stdout",
     "output_type": "stream",
     "text": [
      "<class 'pandas.core.frame.DataFrame'>\n",
      "MultiIndex: 6974598 entries, (2, 55860) to (1102400, 8830447)\n",
      "Data columns (total 3 columns):\n",
      " #   Column     Dtype  \n",
      "---  ------     -----  \n",
      " 0   scoreltr   float64\n",
      " 1   rel        float64\n",
      " 2   scorebert  float64\n",
      "dtypes: float64(3)\n",
      "memory usage: 709.1 MB\n"
     ]
    }
   ],
   "source": [
    "merge_dev = ltr_dev.join(bert_dev,lsuffix='ltr',rsuffix='bert')\n",
    "assert (merge_dev['relltr'] == merge_dev['relbert']).all()\n",
    "merge_dev = merge_dev.rename(columns={\"relltr\": \"rel\"})\n",
    "del merge_dev['relbert']\n",
    "merge_dev.info()"
   ]
  },
  {
   "cell_type": "code",
   "execution_count": 18,
   "metadata": {
    "ExecuteTime": {
     "end_time": "2020-11-29T22:58:20.601535Z",
     "start_time": "2020-11-29T22:58:20.589452Z"
    }
   },
   "outputs": [],
   "source": [
    "def genBertRerank(merge_dev, cutoff=100):\n",
    "    bert_rerank = []\n",
    "    for qid, group in tqdm(merge_dev.groupby('qid')):                                                                                                                                                     \n",
    "        group = group.reset_index()                                                                                                                                                                      \n",
    "        rank = 0\n",
    "        temp = []\n",
    "        for t in group.sort_values('scoreltr', ascending=False, kind='mergesort').itertuples():                                                                                                                                                                                                                                                                                     \n",
    "            rank += 1\n",
    "            if rank <= cutoff:\n",
    "                temp.append((qid, t.pid, t.scorebert, rank, t.rel))\n",
    "            else:\n",
    "                break\n",
    "        bert_rerank.extend(sorted(temp, key=lambda x:x[2], reverse=True))\n",
    "    return pd.DataFrame(bert_rerank, \n",
    "                        columns=['qid','pid','score','rank','rel']\n",
    "                       ).set_index(['qid','pid'])"
   ]
  },
  {
   "cell_type": "code",
   "execution_count": 21,
   "metadata": {
    "ExecuteTime": {
     "end_time": "2020-11-29T23:05:38.211821Z",
     "start_time": "2020-11-29T22:58:59.945029Z"
    }
   },
   "outputs": [
    {
     "name": "stderr",
     "output_type": "stream",
     "text": [
      "100%|██████████| 6980/6980 [00:14<00:00, 498.27it/s]\n",
      "100%|██████████| 6980/6980 [00:12<00:00, 568.95it/s]\n"
     ]
    },
    {
     "name": "stdout",
     "output_type": "stream",
     "text": [
      "score_tie occurs 107 times in 104 queries\n",
      "MRR@10:0.36238891162959935 with 6980 queries\n"
     ]
    },
    {
     "name": "stderr",
     "output_type": "stream",
     "text": [
      "100%|██████████| 6980/6980 [00:15<00:00, 460.34it/s]\n",
      "100%|██████████| 6980/6980 [00:12<00:00, 573.23it/s]\n"
     ]
    },
    {
     "name": "stdout",
     "output_type": "stream",
     "text": [
      "score_tie occurs 107 times in 102 queries\n",
      "MRR@10:0.37100764087870103 with 6980 queries\n"
     ]
    },
    {
     "name": "stderr",
     "output_type": "stream",
     "text": [
      "100%|██████████| 6980/6980 [00:15<00:00, 447.54it/s]\n",
      "100%|██████████| 6980/6980 [00:13<00:00, 519.78it/s]\n"
     ]
    },
    {
     "name": "stdout",
     "output_type": "stream",
     "text": [
      "score_tie occurs 108 times in 103 queries\n",
      "MRR@10:0.3739002023923227 with 6980 queries\n"
     ]
    },
    {
     "name": "stderr",
     "output_type": "stream",
     "text": [
      "100%|██████████| 6980/6980 [00:18<00:00, 374.17it/s]\n",
      "100%|██████████| 6980/6980 [00:14<00:00, 487.95it/s]\n"
     ]
    },
    {
     "name": "stdout",
     "output_type": "stream",
     "text": [
      "score_tie occurs 110 times in 105 queries\n",
      "MRR@10:0.3757991085641515 with 6980 queries\n"
     ]
    },
    {
     "name": "stderr",
     "output_type": "stream",
     "text": [
      "100%|██████████| 6980/6980 [00:19<00:00, 366.76it/s]\n",
      "100%|██████████| 6980/6980 [00:12<00:00, 537.04it/s]\n"
     ]
    },
    {
     "name": "stdout",
     "output_type": "stream",
     "text": [
      "score_tie occurs 113 times in 108 queries\n",
      "MRR@10:0.3772741847455314 with 6980 queries\n"
     ]
    },
    {
     "name": "stderr",
     "output_type": "stream",
     "text": [
      "100%|██████████| 6980/6980 [00:19<00:00, 350.25it/s]\n",
      "100%|██████████| 6980/6980 [00:12<00:00, 538.84it/s]\n"
     ]
    },
    {
     "name": "stdout",
     "output_type": "stream",
     "text": [
      "score_tie occurs 113 times in 108 queries\n",
      "MRR@10:0.37806078591895215 with 6980 queries\n"
     ]
    },
    {
     "name": "stderr",
     "output_type": "stream",
     "text": [
      "100%|██████████| 6980/6980 [00:20<00:00, 338.01it/s]\n",
      "100%|██████████| 6980/6980 [00:13<00:00, 529.42it/s]\n"
     ]
    },
    {
     "name": "stdout",
     "output_type": "stream",
     "text": [
      "score_tie occurs 112 times in 107 queries\n",
      "MRR@10:0.37832349797607673 with 6980 queries\n"
     ]
    },
    {
     "name": "stderr",
     "output_type": "stream",
     "text": [
      "100%|██████████| 6980/6980 [00:21<00:00, 322.78it/s]\n",
      "100%|██████████| 6980/6980 [00:13<00:00, 530.83it/s]\n"
     ]
    },
    {
     "name": "stdout",
     "output_type": "stream",
     "text": [
      "score_tie occurs 110 times in 106 queries\n",
      "MRR@10:0.37886592077136494 with 6980 queries\n"
     ]
    },
    {
     "name": "stderr",
     "output_type": "stream",
     "text": [
      "100%|██████████| 6980/6980 [00:22<00:00, 306.09it/s]\n",
      "100%|██████████| 6980/6980 [00:13<00:00, 499.45it/s]\n"
     ]
    },
    {
     "name": "stdout",
     "output_type": "stream",
     "text": [
      "score_tie occurs 105 times in 103 queries\n",
      "MRR@10:0.37900594669577475 with 6980 queries\n"
     ]
    },
    {
     "name": "stderr",
     "output_type": "stream",
     "text": [
      "100%|██████████| 6980/6980 [00:25<00:00, 270.03it/s]\n",
      "100%|██████████| 6980/6980 [00:14<00:00, 484.89it/s]"
     ]
    },
    {
     "name": "stdout",
     "output_type": "stream",
     "text": [
      "score_tie occurs 106 times in 103 queries\n",
      "MRR@10:0.3792195956701687 with 6980 queries\n"
     ]
    },
    {
     "name": "stderr",
     "output_type": "stream",
     "text": [
      "\n"
     ]
    }
   ],
   "source": [
    "for i in range(100,1001,100):\n",
    "    eval_mrr(genBertRerank(merge_dev, i))"
   ]
  },
  {
   "cell_type": "code",
   "execution_count": null,
   "metadata": {},
   "outputs": [],
   "source": []
  }
 ],
 "metadata": {
  "kernelspec": {
   "display_name": "Python 3",
   "language": "python",
   "name": "python3"
  },
  "language_info": {
   "codemirror_mode": {
    "name": "ipython",
    "version": 3
   },
   "file_extension": ".py",
   "mimetype": "text/x-python",
   "name": "python",
   "nbconvert_exporter": "python",
   "pygments_lexer": "ipython3",
   "version": "3.8.3"
  }
 },
 "nbformat": 4,
 "nbformat_minor": 4
}
