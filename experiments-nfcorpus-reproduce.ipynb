{
 "cells": [
  {
   "cell_type": "code",
   "execution_count": 2,
   "metadata": {},
   "outputs": [],
   "source": [
    "import json\n",
    "\n",
    "with open('collections/nfcorpus/queries.tsv', 'w') as out:\n",
    "    with open('collections/nfcorpus/queries.jsonl', 'r') as f:\n",
    "        for line in f:\n",
    "            l = json.loads(line)\n",
    "            out.write(l['_id'] + '\\t' + l['text'] + '\\n')\n"
   ]
  },
  {
   "cell_type": "code",
   "execution_count": 3,
   "metadata": {},
   "outputs": [
    {
     "name": "stderr",
     "output_type": "stream",
     "text": [
      "/Users/faizanfaisal/anaconda3/envs/pyserini2/lib/python3.11/site-packages/tqdm/auto.py:21: TqdmWarning: IProgress not found. Please update jupyter and ipywidgets. See https://ipywidgets.readthedocs.io/en/stable/user_install.html\n",
      "  from .autonotebook import tqdm as notebook_tqdm\n"
     ]
    },
    {
     "name": "stdout",
     "output_type": "stream",
     "text": [
      " 1 MED-4555 0.791378\n",
      " 2 MED-4560 0.710725\n",
      " 3 MED-4421 0.688938\n",
      " 4 MED-4993 0.686238\n",
      " 5 MED-4424 0.686214\n",
      " 6 MED-1663 0.682199\n",
      " 7 MED-3436 0.680585\n",
      " 8 MED-2750 0.677033\n",
      " 9 MED-4324 0.675772\n",
      "10 MED-2939 0.674646\n"
     ]
    }
   ],
   "source": [
    "from pyserini.search.faiss import FaissSearcher, AutoQueryEncoder\n",
    "\n",
    "encoder = AutoQueryEncoder('BAAI/bge-base-en-v1.5', device='cpu', pooling='mean', l2_norm=True)\n",
    "searcher = FaissSearcher('indexes/nfcorpus.bge-base-en-v1.5', encoder)\n",
    "hits = searcher.search('How to Help Prevent Abdominal Aortic Aneurysms')\n",
    "\n",
    "for i in range(0, 10):\n",
    "    print(f'{i+1:2} {hits[i].docid:7} {hits[i].score:.6f}')\n"
   ]
  },
  {
   "cell_type": "code",
   "execution_count": 5,
   "metadata": {},
   "outputs": [
    {
     "name": "stdout",
     "output_type": "stream",
     "text": [
      " 1 MED-4555 1.472201\n",
      " 2 MED-3180 1.125014\n",
      " 3 MED-1309 1.067153\n",
      " 4 MED-2224 1.059536\n",
      " 5 MED-4423 1.038440\n",
      " 6 MED-4887 1.032622\n",
      " 7 MED-2530 1.020758\n",
      " 8 MED-2372 1.016142\n",
      " 9 MED-1006 1.013599\n",
      "10 MED-2587 1.010811\n"
     ]
    }
   ],
   "source": [
    "from pyserini.search.faiss import FaissSearcher, AutoQueryEncoder\n",
    "\n",
    "encoder = AutoQueryEncoder('facebook/contriever-msmarco', device='cpu', pooling='mean')\n",
    "searcher = FaissSearcher('indexes/faiss.nfcorpus.contriever-msmacro', encoder)\n",
    "hits = searcher.search('How to Help Prevent Abdominal Aortic Aneurysms')\n",
    "\n",
    "for i in range(0, 10):\n",
    "    print(f'{i+1:2} {hits[i].docid:7} {hits[i].score:.6f}')"
   ]
  }
 ],
 "metadata": {
  "kernelspec": {
   "display_name": "pyserini2",
   "language": "python",
   "name": "python3"
  },
  "language_info": {
   "codemirror_mode": {
    "name": "ipython",
    "version": 3
   },
   "file_extension": ".py",
   "mimetype": "text/x-python",
   "name": "python",
   "nbconvert_exporter": "python",
   "pygments_lexer": "ipython3",
   "version": "3.11.9"
  }
 },
 "nbformat": 4,
 "nbformat_minor": 2
}
