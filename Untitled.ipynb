{
 "cells": [
  {
   "cell_type": "code",
   "execution_count": 1,
   "id": "1cfa0235-ada0-44a6-ab8c-a6860df95dd8",
   "metadata": {},
   "outputs": [
    {
     "name": "stdout",
     "output_type": "stream",
     "text": [
      "[0.004s][warning][os,thread] Attempt to protect stack guard pages failed (0x000000016ae08000-0x000000016ae14000).\n",
      "[0.004s][warning][os,thread] Attempt to deallocate stack guard pages failed.\n",
      "{\n",
      "    \"be\": 2.637899875640869,\n",
      "    \"brother\": 4.09124231338501,\n",
      "    \"bubba\": 7.102361679077148,\n",
      "    \"bubba's\\u00e2\": 11.091651916503906,\n",
      "    \"deen\": 7.4197235107421875,\n",
      "    \"earl\": 5.663764953613281,\n",
      "    \"former\": 3.8262834548950195,\n",
      "    \"gener\": 2.2932770252227783,\n",
      "    \"her\": 2.7393782138824463,\n",
      "    \"hier\": 8.24051284790039,\n",
      "    \"manag\": 2.832794189453125,\n",
      "    \"paula\": 6.438521862030029,\n",
      "    \"su\": 5.404428005218506,\n",
      "    \"uncl\": 5.362298488616943,\n",
      "    \"w\": 3.9339818954467773\n",
      "}\n"
     ]
    }
   ],
   "source": [
    "from pyserini.index.lucene import IndexReader\n",
    "import json\n",
    "\n",
    "index_reader = IndexReader('indexes/lucene-index-msmarco-passage')\n",
    "tf = index_reader.get_document_vector('7187158')\n",
    "bm25_weights = \\\n",
    "    {term: index_reader.compute_bm25_term_weight('7187158', term, analyzer=None) \\\n",
    "     for term in tf.keys()}\n",
    "\n",
    "print(json.dumps(bm25_weights, indent=4, sort_keys=True))"
   ]
  },
  {
   "cell_type": "code",
   "execution_count": 2,
   "id": "b71554b1-4a2c-40f3-90fc-c0dce3f7d332",
   "metadata": {},
   "outputs": [],
   "source": [
    "from pyserini.analysis import Analyzer, get_lucene_analyzer\n",
    "\n",
    "analyzer = Analyzer(get_lucene_analyzer())\n",
    "query_tokens = analyzer.analyze('what is paula deen\\'s brother')\n",
    "multihot_query_weights = {k: 1 for k in query_tokens}"
   ]
  },
  {
   "cell_type": "code",
   "execution_count": 3,
   "id": "d49710a9-bc46-4f9b-bd12-2d7a4230fc0e",
   "metadata": {},
   "outputs": [
    {
     "data": {
      "text/plain": [
       "['what', 'paula', 'deen', 'brother']"
      ]
     },
     "execution_count": 3,
     "metadata": {},
     "output_type": "execute_result"
    }
   ],
   "source": [
    "query_tokens"
   ]
  },
  {
   "cell_type": "code",
   "execution_count": 4,
   "id": "9530d000-e160-4890-af8c-50c906452580",
   "metadata": {},
   "outputs": [
    {
     "data": {
      "text/plain": [
       "{'what': 1, 'paula': 1, 'deen': 1, 'brother': 1}"
      ]
     },
     "execution_count": 4,
     "metadata": {},
     "output_type": "execute_result"
    }
   ],
   "source": [
    "multihot_query_weights"
   ]
  },
  {
   "cell_type": "code",
   "execution_count": 5,
   "id": "fa668058-22b4-4514-89cf-e7b7c9599448",
   "metadata": {},
   "outputs": [
    {
     "data": {
      "text/plain": [
       "17.949487686157227"
      ]
     },
     "execution_count": 5,
     "metadata": {},
     "output_type": "execute_result"
    }
   ],
   "source": [
    "import numpy as np\n",
    "\n",
    "# Gather up the dimensions (i.e., the combined dictionary).\n",
    "terms = set.union(set(bm25_weights.keys()), set(multihot_query_weights.keys()))\n",
    "\n",
    "bm25_vec = np.array([ bm25_weights.get(t, 0) for t in terms ])\n",
    "multihot_qvec = np.array([ multihot_query_weights.get(t, 0) for t in terms ])\n",
    "\n",
    "np.dot(multihot_qvec, bm25_vec)"
   ]
  },
  {
   "cell_type": "code",
   "execution_count": 6,
   "id": "54874d79-7e4b-479c-b650-73e5a9061c3c",
   "metadata": {},
   "outputs": [
    {
     "data": {
      "text/plain": [
       "17.949487686157227"
      ]
     },
     "execution_count": 6,
     "metadata": {},
     "output_type": "execute_result"
    }
   ],
   "source": [
    "sum({term: bm25_weights[term] \\\n",
    "     for term in bm25_weights.keys() & \\\n",
    "     multihot_query_weights.keys()}.values())"
   ]
  },
  {
   "cell_type": "code",
   "execution_count": 7,
   "id": "1cb8f71a-9ad2-4d0f-8c3a-39a8d7d63dc7",
   "metadata": {},
   "outputs": [
    {
     "name": "stdout",
     "output_type": "stream",
     "text": [
      " 1 7187158 17.94950\n",
      " 2 7187157 17.66560\n",
      " 3 7187163 17.39060\n",
      " 4 7546327 17.03410\n",
      " 5 7187160 16.56520\n",
      " 6 8227279 15.74180\n",
      " 7 2298838 15.60820\n",
      " 8 7617404 15.40040\n",
      " 9 7187156 15.27550\n",
      "10 2298839 14.97780\n"
     ]
    }
   ],
   "source": [
    "from pyserini.search.lucene import LuceneSearcher\n",
    "\n",
    "searcher = LuceneSearcher('indexes/lucene-index-msmarco-passage')\n",
    "hits = searcher.search('what is paula deen\\'s brother')\n",
    "\n",
    "for i in range(0, 10):\n",
    "    print(f'{i+1:2} {hits[i].docid:7} {hits[i].score:.5f}')"
   ]
  },
  {
   "cell_type": "code",
   "execution_count": null,
   "id": "adcc1196-952c-4827-8ca3-84ced62b71e2",
   "metadata": {},
   "outputs": [],
   "source": []
  }
 ],
 "metadata": {
  "kernelspec": {
   "display_name": "Python 3 (ipykernel)",
   "language": "python",
   "name": "python3"
  },
  "language_info": {
   "codemirror_mode": {
    "name": "ipython",
    "version": 3
   },
   "file_extension": ".py",
   "mimetype": "text/x-python",
   "name": "python",
   "nbconvert_exporter": "python",
   "pygments_lexer": "ipython3",
   "version": "3.10.13"
  }
 },
 "nbformat": 4,
 "nbformat_minor": 5
}
